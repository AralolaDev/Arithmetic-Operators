{
  "nbformat": 4,
  "nbformat_minor": 0,
  "metadata": {
    "colab": {
      "provenance": [],
      "mount_file_id": "1i_7v9RqSdpoSBcjg6cJ_6uCaWyOn3jrc",
      "authorship_tag": "ABX9TyMN6+RgXnqmr+NRWoEDDtF/",
      "include_colab_link": true
    },
    "kernelspec": {
      "name": "python3",
      "display_name": "Python 3"
    },
    "language_info": {
      "name": "python"
    }
  },
  "cells": [
    {
      "cell_type": "markdown",
      "metadata": {
        "id": "view-in-github",
        "colab_type": "text"
      },
      "source": [
        "<a href=\"https://colab.research.google.com/github/AralolaDev/Arithmetic-Operators/blob/master/Untitled.ipynb\" target=\"_parent\"><img src=\"https://colab.research.google.com/assets/colab-badge.svg\" alt=\"Open In Colab\"/></a>"
      ]
    },
    {
      "cell_type": "code",
      "execution_count": null,
      "metadata": {
        "colab": {
          "base_uri": "https://localhost:8080/"
        },
        "id": "28vz2VFBkn0G",
        "outputId": "fcd66ddc-4f6d-4951-9474-73a3b3023adb"
      },
      "outputs": [
        {
          "output_type": "execute_result",
          "data": {
            "text/plain": [
              "(1, 2, 3)"
            ]
          },
          "metadata": {},
          "execution_count": 2
        }
      ],
      "source": [
        "list = [1,2,3]\n",
        "tuple(list)"
      ]
    },
    {
      "cell_type": "code",
      "source": [
        "tuple = (1, 2, 3)\n",
        "print(list(('Arthos', 'Porthos','Aramis')))"
      ],
      "metadata": {
        "colab": {
          "base_uri": "https://localhost:8080/",
          "height": 162
        },
        "id": "2p9aONwTlHug",
        "outputId": "f0775950-552b-48ba-b7ee-da92549f304b"
      },
      "execution_count": null,
      "outputs": [
        {
          "output_type": "error",
          "ename": "TypeError",
          "evalue": "'list' object is not callable",
          "traceback": [
            "\u001b[0;31m---------------------------------------------------------------------------\u001b[0m",
            "\u001b[0;31mTypeError\u001b[0m                                 Traceback (most recent call last)",
            "\u001b[0;32m<ipython-input-9-162f425b0f1e>\u001b[0m in \u001b[0;36m<cell line: 2>\u001b[0;34m()\u001b[0m\n\u001b[1;32m      1\u001b[0m \u001b[0mtuple\u001b[0m \u001b[0;34m=\u001b[0m \u001b[0;34m(\u001b[0m\u001b[0;36m1\u001b[0m\u001b[0;34m,\u001b[0m \u001b[0;36m2\u001b[0m\u001b[0;34m,\u001b[0m \u001b[0;36m3\u001b[0m\u001b[0;34m)\u001b[0m\u001b[0;34m\u001b[0m\u001b[0;34m\u001b[0m\u001b[0m\n\u001b[0;32m----> 2\u001b[0;31m \u001b[0mprint\u001b[0m\u001b[0;34m(\u001b[0m\u001b[0mlist\u001b[0m\u001b[0;34m(\u001b[0m\u001b[0;34m(\u001b[0m\u001b[0;34m'Arthos'\u001b[0m\u001b[0;34m,\u001b[0m \u001b[0;34m'Porthos'\u001b[0m\u001b[0;34m,\u001b[0m\u001b[0;34m'Aramis'\u001b[0m\u001b[0;34m)\u001b[0m\u001b[0;34m)\u001b[0m\u001b[0;34m)\u001b[0m\u001b[0;34m\u001b[0m\u001b[0;34m\u001b[0m\u001b[0m\n\u001b[0m",
            "\u001b[0;31mTypeError\u001b[0m: 'list' object is not callable"
          ]
        }
      ]
    },
    {
      "cell_type": "markdown",
      "source": [
        "A dictionary is an ordered collection of items,each item stored in a dictionary has a key and value, you can use a key to retrieve the corresponding value from the dictionary. So dictionaries have the type dict."
      ],
      "metadata": {
        "id": "RUbafEBqnA2X"
      }
    },
    {
      "cell_type": "code",
      "source": [],
      "metadata": {
        "id": "hr6vneWp2Ryz"
      },
      "execution_count": null,
      "outputs": []
    },
    {
      "cell_type": "code",
      "source": [
        "Me ={\n",
        "    'Name':'Aralola',\n",
        "    'Gender':'Male',\n",
        "    'School': 'WaterSprings',\n",
        "     'Class': 'JSS1'\n",
        "    }"
      ],
      "metadata": {
        "id": "YqH9RFiVlel3"
      },
      "execution_count": null,
      "outputs": []
    },
    {
      "cell_type": "code",
      "source": [
        "My_Sister = {\n",
        "    ==   'Name':'Ewa',\n",
        "    'Gender':'Female',\n",
        "    'School':'WaterSprings',\n",
        "    'Class': '3'\n",
        "}"
      ],
      "metadata": {
        "id": "-vTOROYGtNjC"
      },
      "execution_count": null,
      "outputs": []
    },
    {
      "cell_type": "code",
      "source": [
        "print(Me)"
      ],
      "metadata": {
        "colab": {
          "base_uri": "https://localhost:8080/"
        },
        "id": "knwdDy6ltI8_",
        "outputId": "a1175e2e-9895-4c6c-b167-dffec66e29b5"
      },
      "execution_count": null,
      "outputs": [
        {
          "output_type": "stream",
          "name": "stdout",
          "text": [
            "{'Name': 'Aralola', 'Gender': 'Male', 'School': 'WaterSprings', 'Class': 'JSS1'}\n"
          ]
        }
      ]
    },
    {
      "cell_type": "markdown",
      "source": [],
      "metadata": {
        "id": "idqUREo_vgNf"
      }
    },
    {
      "cell_type": "code",
      "source": [
        "print(My_Sister)"
      ],
      "metadata": {
        "colab": {
          "base_uri": "https://localhost:8080/"
        },
        "id": "zTwYYHc0uR2r",
        "outputId": "0048b9ce-2b8b-4e2e-a61c-c0e5451cb4d4"
      },
      "execution_count": null,
      "outputs": [
        {
          "output_type": "stream",
          "name": "stdout",
          "text": [
            "{'Name': 'Ewa', 'Gender': 'Female', 'School': 'WaterSprings', 'Class': '3'}\n"
          ]
        }
      ]
    },
    {
      "cell_type": "code",
      "source": [
        "My_Friend = dict(Name = 'Fadhil', Gender = 'Male', School = 'WaterSprings', Class = '6')\n"
      ],
      "metadata": {
        "id": "O1-jZm-VuVXf"
      },
      "execution_count": null,
      "outputs": []
    },
    {
      "cell_type": "code",
      "source": [
        "print(My_Friend)"
      ],
      "metadata": {
        "colab": {
          "base_uri": "https://localhost:8080/"
        },
        "id": "2KS8B4P4vxFT",
        "outputId": "a35b7a18-f1bd-4eff-dfca-ac0686974bd4"
      },
      "execution_count": null,
      "outputs": [
        {
          "output_type": "stream",
          "name": "stdout",
          "text": [
            "{'Name': 'Fadhil', 'Gender': 'Male', 'School': 'WaterSprings', 'Class': '6'}\n"
          ]
        }
      ]
    },
    {
      "cell_type": "code",
      "source": [
        "type(Me)"
      ],
      "metadata": {
        "colab": {
          "base_uri": "https://localhost:8080/"
        },
        "id": "lhf3xp__vz4Y",
        "outputId": "22f24029-363b-438b-97e5-b0ee9290cfea"
      },
      "execution_count": null,
      "outputs": [
        {
          "output_type": "execute_result",
          "data": {
            "text/plain": [
              "dict"
            ]
          },
          "metadata": {},
          "execution_count": 16
        }
      ]
    },
    {
      "cell_type": "code",
      "source": [
        "type(My_Sister)"
      ],
      "metadata": {
        "colab": {
          "base_uri": "https://localhost:8080/"
        },
        "id": "x9IzrcQWwAeL",
        "outputId": "c4cc55f0-4fd0-4e22-eee5-10b4046ae762"
      },
      "execution_count": null,
      "outputs": [
        {
          "output_type": "execute_result",
          "data": {
            "text/plain": [
              "dict"
            ]
          },
          "metadata": {},
          "execution_count": 17
        }
      ]
    },
    {
      "cell_type": "code",
      "source": [
        "type(My_Friend)"
      ],
      "metadata": {
        "colab": {
          "base_uri": "https://localhost:8080/"
        },
        "id": "avE8oXRHwE_B",
        "outputId": "fabc20af-6b51-4ead-986c-55694d790861"
      },
      "execution_count": null,
      "outputs": [
        {
          "output_type": "execute_result",
          "data": {
            "text/plain": [
              "dict"
            ]
          },
          "metadata": {},
          "execution_count": 18
        }
      ]
    },
    {
      "cell_type": "code",
      "source": [
        "Me['Name']"
      ],
      "metadata": {
        "colab": {
          "base_uri": "https://localhost:8080/",
          "height": 35
        },
        "id": "3dr5mjvkwKXG",
        "outputId": "65248a10-0ce1-4302-f5b6-31569f7751a9"
      },
      "execution_count": null,
      "outputs": [
        {
          "output_type": "execute_result",
          "data": {
            "text/plain": [
              "'Aralola'"
            ],
            "application/vnd.google.colaboratory.intrinsic+json": {
              "type": "string"
            }
          },
          "metadata": {},
          "execution_count": 19
        }
      ]
    },
    {
      "cell_type": "code",
      "source": [
        "Me['Gender']"
      ],
      "metadata": {
        "colab": {
          "base_uri": "https://localhost:8080/",
          "height": 35
        },
        "id": "Fu7tQl6wwkXC",
        "outputId": "3b63ea93-ed07-48af-b133-b76c5dbdd60c"
      },
      "execution_count": null,
      "outputs": [
        {
          "output_type": "execute_result",
          "data": {
            "text/plain": [
              "'Male'"
            ],
            "application/vnd.google.colaboratory.intrinsic+json": {
              "type": "string"
            }
          },
          "metadata": {},
          "execution_count": 20
        }
      ]
    },
    {
      "cell_type": "code",
      "source": [
        "Me['School']"
      ],
      "metadata": {
        "colab": {
          "base_uri": "https://localhost:8080/",
          "height": 35
        },
        "id": "DQ_dF3gTwzmI",
        "outputId": "b0b6bb73-a57c-4a7d-b33a-5153eed7bb3a"
      },
      "execution_count": null,
      "outputs": [
        {
          "output_type": "execute_result",
          "data": {
            "text/plain": [
              "'WaterSprings'"
            ],
            "application/vnd.google.colaboratory.intrinsic+json": {
              "type": "string"
            }
          },
          "metadata": {},
          "execution_count": 21
        }
      ]
    },
    {
      "cell_type": "code",
      "source": [
        "Me['Class']"
      ],
      "metadata": {
        "colab": {
          "base_uri": "https://localhost:8080/",
          "height": 35
        },
        "id": "XF_SmASOw5JX",
        "outputId": "03da3643-f0a7-4102-a552-87e29526cd76"
      },
      "execution_count": null,
      "outputs": [
        {
          "output_type": "execute_result",
          "data": {
            "text/plain": [
              "'JSS1'"
            ],
            "application/vnd.google.colaboratory.intrinsic+json": {
              "type": "string"
            }
          },
          "metadata": {},
          "execution_count": 22
        }
      ]
    },
    {
      "cell_type": "code",
      "source": [
        "Me.get('Name')"
      ],
      "metadata": {
        "colab": {
          "base_uri": "https://localhost:8080/",
          "height": 35
        },
        "id": "r0QT1YtNxMjn",
        "outputId": "acf2e67c-cf8e-49d1-a630-b58d79ca9181"
      },
      "execution_count": null,
      "outputs": [
        {
          "output_type": "execute_result",
          "data": {
            "text/plain": [
              "'Aralola'"
            ],
            "application/vnd.google.colaboratory.intrinsic+json": {
              "type": "string"
            }
          },
          "metadata": {},
          "execution_count": 23
        }
      ]
    },
    {
      "cell_type": "code",
      "source": [
        "Me.get('Favourite food')"
      ],
      "metadata": {
        "id": "eShOnw9yyTN7"
      },
      "execution_count": null,
      "outputs": []
    },
    {
      "cell_type": "code",
      "source": [
        "Me['Favourite food']"
      ],
      "metadata": {
        "colab": {
          "base_uri": "https://localhost:8080/",
          "height": 144
        },
        "id": "_6DqRPZTycld",
        "outputId": "176e48c6-bb55-40fe-e4e9-cbd0a60634bf"
      },
      "execution_count": null,
      "outputs": [
        {
          "output_type": "error",
          "ename": "KeyError",
          "evalue": "'Favourite food'",
          "traceback": [
            "\u001b[0;31m---------------------------------------------------------------------------\u001b[0m",
            "\u001b[0;31mKeyError\u001b[0m                                  Traceback (most recent call last)",
            "\u001b[0;32m<ipython-input-25-94f8ba2c0502>\u001b[0m in \u001b[0;36m<cell line: 1>\u001b[0;34m()\u001b[0m\n\u001b[0;32m----> 1\u001b[0;31m \u001b[0mMe\u001b[0m\u001b[0;34m[\u001b[0m\u001b[0;34m'Favourite food'\u001b[0m\u001b[0;34m]\u001b[0m\u001b[0;34m\u001b[0m\u001b[0;34m\u001b[0m\u001b[0m\n\u001b[0m",
            "\u001b[0;31mKeyError\u001b[0m: 'Favourite food'"
          ]
        }
      ]
    },
    {
      "cell_type": "code",
      "source": [
        "Me.get('Favourite food ','it does not exist')"
      ],
      "metadata": {
        "colab": {
          "base_uri": "https://localhost:8080/",
          "height": 35
        },
        "id": "KAMk2xNVyqjZ",
        "outputId": "b6179220-143a-43ea-9695-f724810edd9b"
      },
      "execution_count": null,
      "outputs": [
        {
          "output_type": "execute_result",
          "data": {
            "text/plain": [
              "'it does not exist'"
            ],
            "application/vnd.google.colaboratory.intrinsic+json": {
              "type": "string"
            }
          },
          "metadata": {},
          "execution_count": 26
        }
      ]
    },
    {
      "cell_type": "code",
      "source": [
        "'Name' in Me"
      ],
      "metadata": {
        "colab": {
          "base_uri": "https://localhost:8080/"
        },
        "id": "2B8sLNpgy9_s",
        "outputId": "061838ba-2f81-4dcf-ef23-aabc20fbd65a"
      },
      "execution_count": null,
      "outputs": [
        {
          "output_type": "execute_result",
          "data": {
            "text/plain": [
              "True"
            ]
          },
          "metadata": {},
          "execution_count": 28
        }
      ]
    },
    {
      "cell_type": "code",
      "source": [
        "'My Favourite food'in Me"
      ],
      "metadata": {
        "colab": {
          "base_uri": "https://localhost:8080/"
        },
        "id": "0HytxtTzzJyF",
        "outputId": "235cfab4-0763-4bc4-9293-601c4b4f39bd"
      },
      "execution_count": null,
      "outputs": [
        {
          "output_type": "execute_result",
          "data": {
            "text/plain": [
              "False"
            ]
          },
          "metadata": {},
          "execution_count": 31
        }
      ]
    },
    {
      "cell_type": "code",
      "source": [
        "Me['My Favourite food'] =   'Jollof rice'"
      ],
      "metadata": {
        "id": "Nbj7TiurzgJi"
      },
      "execution_count": null,
      "outputs": []
    },
    {
      "cell_type": "code",
      "source": [
        "print(Me)"
      ],
      "metadata": {
        "colab": {
          "base_uri": "https://localhost:8080/"
        },
        "id": "RvxI6PN60IFf",
        "outputId": "fa592ce5-c713-43c4-abc8-4c84467e0b72"
      },
      "execution_count": null,
      "outputs": [
        {
          "output_type": "stream",
          "name": "stdout",
          "text": [
            "{'Name': 'Aralola', 'Gender': 'Male', 'School': 'WaterSprings', 'Class': 'JSS1', 'My Favourite food': 'Jollof rice'}\n"
          ]
        }
      ]
    },
    {
      "cell_type": "code",
      "source": [
        "Me.pop('School')"
      ],
      "metadata": {
        "colab": {
          "base_uri": "https://localhost:8080/",
          "height": 35
        },
        "id": "fycjDyU80KNI",
        "outputId": "855d71e2-bd5e-47c5-dda1-c11e6c101608"
      },
      "execution_count": null,
      "outputs": [
        {
          "output_type": "execute_result",
          "data": {
            "text/plain": [
              "'WaterSprings'"
            ],
            "application/vnd.google.colaboratory.intrinsic+json": {
              "type": "string"
            }
          },
          "metadata": {},
          "execution_count": 34
        }
      ]
    },
    {
      "cell_type": "code",
      "source": [
        "print(Me)"
      ],
      "metadata": {
        "colab": {
          "base_uri": "https://localhost:8080/"
        },
        "id": "rMyUHNtv06n4",
        "outputId": "50f1fe40-b3e7-4365-b9a4-7c5c832a83fa"
      },
      "execution_count": null,
      "outputs": [
        {
          "output_type": "stream",
          "name": "stdout",
          "text": [
            "{'Name': 'Aralola', 'Gender': 'Male', 'Class': 'JSS1', 'My Favourite food': 'Jollof rice'}\n"
          ]
        }
      ]
    },
    {
      "cell_type": "code",
      "source": [
        "Me.keys()"
      ],
      "metadata": {
        "colab": {
          "base_uri": "https://localhost:8080/"
        },
        "id": "Y47R9QKy0_M5",
        "outputId": "fddc97cf-e8a6-4fd2-a064-e641c5361073"
      },
      "execution_count": null,
      "outputs": [
        {
          "output_type": "execute_result",
          "data": {
            "text/plain": [
              "dict_keys(['Name', 'Gender', 'Class', 'My Favourite food'])"
            ]
          },
          "metadata": {},
          "execution_count": 36
        }
      ]
    },
    {
      "cell_type": "code",
      "source": [
        "Me.values()"
      ],
      "metadata": {
        "colab": {
          "base_uri": "https://localhost:8080/"
        },
        "id": "MRVyuxkA1Nbx",
        "outputId": "4df83f6a-325b-416d-a012-29b611628f9b"
      },
      "execution_count": null,
      "outputs": [
        {
          "output_type": "execute_result",
          "data": {
            "text/plain": [
              "dict_values(['Aralola', 'Male', 'JSS1', 'Jollof rice'])"
            ]
          },
          "metadata": {},
          "execution_count": 37
        }
      ]
    },
    {
      "cell_type": "code",
      "source": [
        "Me.values()"
      ],
      "metadata": {
        "colab": {
          "base_uri": "https://localhost:8080/"
        },
        "id": "VQm2AmEl1dtj",
        "outputId": "e3cd625d-80c7-491d-fc8b-31d6bb37c6a3"
      },
      "execution_count": null,
      "outputs": [
        {
          "output_type": "execute_result",
          "data": {
            "text/plain": [
              "dict_values(['Aralola', 'Male', 'JSS1', 'Jollof rice'])"
            ]
          },
          "metadata": {},
          "execution_count": 39
        }
      ]
    },
    {
      "cell_type": "code",
      "source": [
        "Me.items()"
      ],
      "metadata": {
        "colab": {
          "base_uri": "https://localhost:8080/"
        },
        "id": "mJN6ktOI1rwy",
        "outputId": "3be4ae5a-ec5b-4edd-a375-53b536a55305"
      },
      "execution_count": null,
      "outputs": [
        {
          "output_type": "execute_result",
          "data": {
            "text/plain": [
              "dict_items([('Name', 'Aralola'), ('Gender', 'Male'), ('Class', 'JSS1'), ('My Favourite food', 'Jollof rice')])"
            ]
          },
          "metadata": {},
          "execution_count": 40
        }
      ]
    },
    {
      "cell_type": "code",
      "source": [
        "My_Cousin = {\n",
        "    'Name':'Seyi',\n",
        "    'Gender':'Male',\n",
        "    'School':'Watersprings',\n",
        "    'Class' : 'Preschool',\n",
        "}"
      ],
      "metadata": {
        "id": "ebVrnbaS2UEs"
      },
      "execution_count": null,
      "outputs": []
    },
    {
      "cell_type": "code",
      "source": [
        "print(My_Cousin)"
      ],
      "metadata": {
        "id": "bxIwpLE3yA3O"
      },
      "execution_count": null,
      "outputs": []
    },
    {
      "cell_type": "code",
      "source": [
        "type(My_Cousin)"
      ],
      "metadata": {
        "id": "yrpUODziyNOe"
      },
      "execution_count": null,
      "outputs": []
    },
    {
      "cell_type": "code",
      "source": [
        "Me.values()"
      ],
      "metadata": {
        "id": "taox9VihzfMU"
      },
      "execution_count": null,
      "outputs": []
    },
    {
      "cell_type": "code",
      "source": [
        "Me.pop('School')"
      ],
      "metadata": {
        "id": "tGwiq4SAyf3a"
      },
      "execution_count": null,
      "outputs": []
    },
    {
      "cell_type": "code",
      "source": [
        "Me.keys()"
      ],
      "metadata": {
        "id": "N0dMg0eWzYAI"
      },
      "execution_count": null,
      "outputs": []
    },
    {
      "cell_type": "code",
      "source": [
        "Me.items()"
      ],
      "metadata": {
        "id": "zE_FcRUFzhw3"
      },
      "execution_count": null,
      "outputs": []
    },
    {
      "cell_type": "code",
      "source": [
        "'Name'in My_Cousin"
      ],
      "metadata": {
        "id": "BWgbIC6czv8h"
      },
      "execution_count": null,
      "outputs": []
    },
    {
      "cell_type": "code",
      "source": [
        "from random import randint\n",
        "for i in range(50):\n",
        "  x = randint(3,6)\n",
        "  print(x)"
      ],
      "metadata": {
        "id": "Ym1X8N35z2-6",
        "colab": {
          "base_uri": "https://localhost:8080/"
        },
        "outputId": "977dbea2-90c0-4093-93e9-1cc3560b3137"
      },
      "execution_count": null,
      "outputs": [
        {
          "output_type": "stream",
          "name": "stdout",
          "text": [
            "3\n",
            "3\n",
            "4\n",
            "4\n",
            "6\n",
            "6\n",
            "5\n",
            "5\n",
            "6\n",
            "3\n",
            "6\n",
            "6\n",
            "4\n",
            "5\n",
            "4\n",
            "6\n",
            "6\n",
            "4\n",
            "3\n",
            "5\n",
            "6\n",
            "5\n",
            "5\n",
            "3\n",
            "6\n",
            "3\n",
            "3\n",
            "3\n",
            "3\n",
            "6\n",
            "4\n",
            "3\n",
            "6\n",
            "4\n",
            "5\n",
            "4\n",
            "3\n",
            "5\n",
            "5\n",
            "6\n",
            "5\n",
            "4\n",
            "5\n",
            "3\n",
            "6\n",
            "4\n",
            "3\n",
            "4\n",
            "3\n",
            "4\n"
          ]
        }
      ]
    },
    {
      "cell_type": "code",
      "source": [
        "from random import randint\n",
        "x = randint(1,50)\n",
        "y = randint(2,5)\n",
        "zed = x ** y\n",
        "print(\"The value of x raised to power y is, {}\".format(zed))\n",
        "print(\"x is, {}\".format(x))\n",
        "print(\"y is, {}\".format(y))"
      ],
      "metadata": {
        "colab": {
          "base_uri": "https://localhost:8080/"
        },
        "id": "F4Jo_MjrhgLY",
        "outputId": "829071e0-afa5-43c8-b547-8e19cc63627e"
      },
      "execution_count": null,
      "outputs": [
        {
          "output_type": "stream",
          "name": "stdout",
          "text": [
            "The value of x raised to power y is, 100000\n",
            "x is, 10\n",
            "y is, 5\n"
          ]
        }
      ]
    },
    {
      "cell_type": "code",
      "source": [
        "name  = \"Aralola\"\n",
        "print(\"My name is\", name) #coma seperation method\n",
        "print( f\"My name is {name}\" ) #formatted string\n",
        "print(\"My name is, {}!\".format(name)) #str.format"
      ],
      "metadata": {
        "colab": {
          "base_uri": "https://localhost:8080/"
        },
        "id": "tMMBWOvxskGQ",
        "outputId": "858081fd-6cd7-4913-94dc-71b5166377bf"
      },
      "execution_count": null,
      "outputs": [
        {
          "output_type": "stream",
          "name": "stdout",
          "text": [
            "My name is Aralola\n",
            "My name is Aralola\n",
            "My name is, Aralola!\n"
          ]
        }
      ]
    },
    {
      "cell_type": "code",
      "source": [
        "My_Name = \"Aralola\""
      ],
      "metadata": {
        "id": "qmvYvIoiPFFB"
      },
      "execution_count": null,
      "outputs": []
    },
    {
      "cell_type": "code",
      "source": [
        "\n",
        "#3. Write a program that generates a random number between 1 and 10 and prints your name\n",
        "#that many times.\n",
        "from random import randint\n",
        "z = randint(1,10)\n",
        "print(f\"The random number generated between 1 and 10 is {z}\")\n",
        "for i in range(z):\n",
        "  print(My_Name)"
      ],
      "metadata": {
        "id": "cijVyQYDyrXv",
        "colab": {
          "base_uri": "https://localhost:8080/"
        },
        "outputId": "1d158fb3-3e5d-444d-920f-d9713006da7a"
      },
      "execution_count": null,
      "outputs": [
        {
          "output_type": "stream",
          "name": "stdout",
          "text": [
            "The random number generated between 1 and 10 is 5\n",
            "Aralola\n",
            "Aralola\n",
            "Aralola\n",
            "Aralola\n",
            "Aralola\n"
          ]
        }
      ]
    },
    {
      "cell_type": "code",
      "source": [
        "#4. Write a program that generates a random decimal number between 1 and 10 with two decimal places of accuracy.\n",
        " #Examples are 1.23, 3.45, 9.80, and 5.00.\n",
        "from random import randint\n",
        "a = (1,10)\n",
        "print(f\"The random decimal number generated between 1 and 10 is {a}\")\n",
        "for i in range(a)"
      ],
      "metadata": {
        "id": "PUa6kkjaQDI3",
        "colab": {
          "base_uri": "https://localhost:8080/",
          "height": 105
        },
        "outputId": "9921e15e-6564-45db-ae81-e03d50fdffa9"
      },
      "execution_count": null,
      "outputs": [
        {
          "output_type": "error",
          "ename": "SyntaxError",
          "evalue": "invalid syntax (<ipython-input-6-245f8c088e6a>, line 4)",
          "traceback": [
            "\u001b[0;36m  File \u001b[0;32m\"<ipython-input-6-245f8c088e6a>\"\u001b[0;36m, line \u001b[0;32m4\u001b[0m\n\u001b[0;31m    a = randint(1,10):\u001b[0m\n\u001b[0m                     ^\u001b[0m\n\u001b[0;31mSyntaxError\u001b[0m\u001b[0;31m:\u001b[0m invalid syntax\n"
          ]
        }
      ]
    },
    {
      "cell_type": "code",
      "source": [
        "score = 99"
      ],
      "metadata": {
        "id": "auIUempDIYvO"
      },
      "execution_count": null,
      "outputs": []
    },
    {
      "cell_type": "code",
      "source": [
        "if score >= 95 and score < 100:\n",
        "  print(\"You got an A !\")\n"
      ],
      "metadata": {
        "colab": {
          "base_uri": "https://localhost:8080/"
        },
        "id": "9m5cM4kTznhs",
        "outputId": "9403457c-1096-4937-f3eb-8df67de9bd39"
      },
      "execution_count": null,
      "outputs": [
        {
          "output_type": "stream",
          "name": "stdout",
          "text": [
            "You got an A !\n"
          ]
        }
      ]
    },
    {
      "cell_type": "code",
      "source": [
        "new_score = 86"
      ],
      "metadata": {
        "id": "_owCBe-H3Xv2"
      },
      "execution_count": null,
      "outputs": []
    },
    {
      "cell_type": "code",
      "source": [
        "if score >=  80 and new_score < 90:\n",
        "  print(\"You got a B !\")"
      ],
      "metadata": {
        "colab": {
          "base_uri": "https://localhost:8080/"
        },
        "id": "yz8GIIAC7JSq",
        "outputId": "1c536276-eb16-4017-bb24-78a0389338f4"
      },
      "execution_count": null,
      "outputs": [
        {
          "output_type": "stream",
          "name": "stdout",
          "text": [
            "You got a B !\n"
          ]
        }
      ]
    },
    {
      "cell_type": "code",
      "source": [
        "low_score = 67"
      ],
      "metadata": {
        "id": "ymcSQIO67YE8"
      },
      "execution_count": null,
      "outputs": []
    },
    {
      "cell_type": "code",
      "source": [
        "if low_score >= 60 and low_score < 80:\n",
        "  print(\"You got a C !\")"
      ],
      "metadata": {
        "colab": {
          "base_uri": "https://localhost:8080/"
        },
        "id": "ikjbOjdY8pL0",
        "outputId": "b326b014-a26e-46d8-d8dd-d02abcf6d3eb"
      },
      "execution_count": null,
      "outputs": [
        {
          "output_type": "stream",
          "name": "stdout",
          "text": [
            "You got a C !\n"
          ]
        }
      ]
    },
    {
      "cell_type": "code",
      "source": [
        "average_score = 55"
      ],
      "metadata": {
        "id": "S_wcvPWR89bz"
      },
      "execution_count": null,
      "outputs": []
    },
    {
      "cell_type": "code",
      "source": [
        "if average_score >= 50 and average_score < 60:\n",
        "  print(\"You got a D !\")\n",
        "else:\n",
        "  print(\"You got an F\")"
      ],
      "metadata": {
        "colab": {
          "base_uri": "https://localhost:8080/"
        },
        "id": "x7omrU989QKr",
        "outputId": "c05eacc1-cfca-4c0d-e681-02799514b121"
      },
      "execution_count": null,
      "outputs": [
        {
          "output_type": "stream",
          "name": "stdout",
          "text": [
            "You got a D !\n"
          ]
        }
      ]
    },
    {
      "cell_type": "code",
      "source": [
        "score = int(input(\"enter a score here\"))\n",
        "if score >= 95 and score < 100:\n",
        "  print(\"You got an A !\")\n",
        "\n",
        "elif score >=  80 and score < 90:\n",
        "  print(\"You got a B !\")\n",
        "\n",
        "elif score >= 60 and score < 80:\n",
        "  print(\"You got a C !\")\n",
        "\n",
        "elif score >= 50 and score < 60:\n",
        "  print(\"You got a D !\")\n",
        "else:\n",
        "  print(\"You got an F\")"
      ],
      "metadata": {
        "colab": {
          "base_uri": "https://localhost:8080/"
        },
        "id": "21_r4qc092Oe",
        "outputId": "36dd169a-9604-45aa-e418-f476d65c7de6"
      },
      "execution_count": null,
      "outputs": [
        {
          "output_type": "stream",
          "name": "stdout",
          "text": [
            "enter a score here96\n",
            "You got an A !\n"
          ]
        }
      ]
    },
    {
      "cell_type": "code",
      "source": [
        "#5. Write a program that generates 50 random numbers such that the first number is between 1 and 2, the second is between 1 and 3,\n",
        "#the third is between 1 and 4, . . . , and the last is between 1 and 51.\n",
        "from random import randint\n",
        "x = randint(1,2)\n",
        "print(f\"The 50 random numbers between 1 and 2 is {x}\")\n",
        "for i in range(50):\n",
        "  print(x)\n",
        "y = randint(1,3)\n",
        "print(f\"The 50 random numbers between 1 and 3 is {y}\")\n",
        "for i in range(50):\n",
        "  print(y)\n",
        "z = randint(1,4)\n",
        "print(f\"The 50 random numbers between 1 and 4 is {z}\")\n",
        "for i in range(50):\n",
        "  print(z)\n",
        "w = randint(1,51)\n",
        "print(f\"The 50 random. numbers between 1 and 51 is {w}\")\n",
        "for i in range(50):\n",
        "  print(w)"
      ],
      "metadata": {
        "colab": {
          "base_uri": "https://localhost:8080/"
        },
        "id": "5d2ppzEQrbhl",
        "outputId": "b0f1fb71-e8df-41db-d91b-a07beee09abd"
      },
      "execution_count": null,
      "outputs": [
        {
          "output_type": "stream",
          "name": "stdout",
          "text": [
            "The 50 random numbers between 1 and 2 is 1\n",
            "1\n",
            "1\n",
            "1\n",
            "1\n",
            "1\n",
            "1\n",
            "1\n",
            "1\n",
            "1\n",
            "1\n",
            "1\n",
            "1\n",
            "1\n",
            "1\n",
            "1\n",
            "1\n",
            "1\n",
            "1\n",
            "1\n",
            "1\n",
            "1\n",
            "1\n",
            "1\n",
            "1\n",
            "1\n",
            "1\n",
            "1\n",
            "1\n",
            "1\n",
            "1\n",
            "1\n",
            "1\n",
            "1\n",
            "1\n",
            "1\n",
            "1\n",
            "1\n",
            "1\n",
            "1\n",
            "1\n",
            "1\n",
            "1\n",
            "1\n",
            "1\n",
            "1\n",
            "1\n",
            "1\n",
            "1\n",
            "1\n",
            "1\n",
            "The 50 random numbers between 1 and 3 is 1\n",
            "1\n",
            "1\n",
            "1\n",
            "1\n",
            "1\n",
            "1\n",
            "1\n",
            "1\n",
            "1\n",
            "1\n",
            "1\n",
            "1\n",
            "1\n",
            "1\n",
            "1\n",
            "1\n",
            "1\n",
            "1\n",
            "1\n",
            "1\n",
            "1\n",
            "1\n",
            "1\n",
            "1\n",
            "1\n",
            "1\n",
            "1\n",
            "1\n",
            "1\n",
            "1\n",
            "1\n",
            "1\n",
            "1\n",
            "1\n",
            "1\n",
            "1\n",
            "1\n",
            "1\n",
            "1\n",
            "1\n",
            "1\n",
            "1\n",
            "1\n",
            "1\n",
            "1\n",
            "1\n",
            "1\n",
            "1\n",
            "1\n",
            "1\n",
            "The 50 random numbers between 1 and 4 is 2\n",
            "2\n",
            "2\n",
            "2\n",
            "2\n",
            "2\n",
            "2\n",
            "2\n",
            "2\n",
            "2\n",
            "2\n",
            "2\n",
            "2\n",
            "2\n",
            "2\n",
            "2\n",
            "2\n",
            "2\n",
            "2\n",
            "2\n",
            "2\n",
            "2\n",
            "2\n",
            "2\n",
            "2\n",
            "2\n",
            "2\n",
            "2\n",
            "2\n",
            "2\n",
            "2\n",
            "2\n",
            "2\n",
            "2\n",
            "2\n",
            "2\n",
            "2\n",
            "2\n",
            "2\n",
            "2\n",
            "2\n",
            "2\n",
            "2\n",
            "2\n",
            "2\n",
            "2\n",
            "2\n",
            "2\n",
            "2\n",
            "2\n",
            "2\n",
            "The 50 random. numbers between 1 and 51 is 29\n",
            "29\n",
            "29\n",
            "29\n",
            "29\n",
            "29\n",
            "29\n",
            "29\n",
            "29\n",
            "29\n",
            "29\n",
            "29\n",
            "29\n",
            "29\n",
            "29\n",
            "29\n",
            "29\n",
            "29\n",
            "29\n",
            "29\n",
            "29\n",
            "29\n",
            "29\n",
            "29\n",
            "29\n",
            "29\n",
            "29\n",
            "29\n",
            "29\n",
            "29\n",
            "29\n",
            "29\n",
            "29\n",
            "29\n",
            "29\n",
            "29\n",
            "29\n",
            "29\n",
            "29\n",
            "29\n",
            "29\n",
            "29\n",
            "29\n",
            "29\n",
            "29\n",
            "29\n",
            "29\n",
            "29\n",
            "29\n",
            "29\n",
            "29\n"
          ]
        }
      ]
    },
    {
      "cell_type": "code",
      "source": [
        "#6. Write a program that asks the user to enter two numbers, x and y , and computes | x − y | . x+y"
      ],
      "metadata": {
        "colab": {
          "base_uri": "https://localhost:8080/"
        },
        "id": "qVEwYxfm7vlj",
        "outputId": "42ec2b2e-76e8-4704-f2d5-f5aa99c44242"
      },
      "execution_count": null,
      "outputs": [
        {
          "output_type": "execute_result",
          "data": {
            "text/plain": [
              "(71, 109)"
            ]
          },
          "metadata": {},
          "execution_count": 23
        }
      ]
    },
    {
      "cell_type": "code",
      "source": [
        "x = int(input(\"Enter a number here\"))\n",
        "if x = 60\n"
      ],
      "metadata": {
        "id": "_NtzLVKU-jy1"
      },
      "execution_count": null,
      "outputs": []
    },
    {
      "cell_type": "code",
      "source": [
        "result = 1\n",
        "i = 1\n",
        "\n",
        "while i <= 100:\n",
        "    result = result * i # 1*1 = 1\n",
        "    i = i+1 #1+1 = 2\n",
        "\n",
        "print('The factorial of 100 is: {}'.format(result))"
      ],
      "metadata": {
        "colab": {
          "base_uri": "https://localhost:8080/"
        },
        "id": "4l5W4Au0Pjpn",
        "outputId": "f46bc3eb-ce00-42d7-a0e0-c2bdd80d092d"
      },
      "execution_count": null,
      "outputs": [
        {
          "output_type": "stream",
          "name": "stdout",
          "text": [
            "The factorial of 100 is: 93326215443944152681699238856266700490715968264381621468592963895217599993229915608941463976156518286253697920827223758251185210916864000000000000000000000000\n"
          ]
        }
      ]
    },
    {
      "cell_type": "code",
      "source": [
        "l = \"%\"\n",
        "l = l + \"%\"\n",
        "l"
      ],
      "metadata": {
        "colab": {
          "base_uri": "https://localhost:8080/",
          "height": 35
        },
        "id": "SX7ZF9Izc8mB",
        "outputId": "7a3a4852-f5aa-4f85-9897-35ae3b3ede10"
      },
      "execution_count": null,
      "outputs": [
        {
          "output_type": "execute_result",
          "data": {
            "text/plain": [
              "'%%'"
            ],
            "application/vnd.google.colaboratory.intrinsic+json": {
              "type": "string"
            }
          },
          "metadata": {},
          "execution_count": 5
        }
      ]
    },
    {
      "cell_type": "code",
      "source": [
        "a = '**'\n",
        "print(a[:-1])"
      ],
      "metadata": {
        "colab": {
          "base_uri": "https://localhost:8080/"
        },
        "id": "M_hEG6KjgneS",
        "outputId": "d41302d8-8b88-451d-ed67-0209f43709b0"
      },
      "execution_count": null,
      "outputs": [
        {
          "output_type": "stream",
          "name": "stdout",
          "text": [
            "*\n"
          ]
        }
      ]
    },
    {
      "cell_type": "code",
      "source": [
        "l = \"%%\"\n",
        "print(len(l))"
      ],
      "metadata": {
        "colab": {
          "base_uri": "https://localhost:8080/"
        },
        "id": "JZpATjmjhHqo",
        "outputId": "2061ba7e-bff2-4ede-8218-510747f95c93"
      },
      "execution_count": null,
      "outputs": [
        {
          "output_type": "stream",
          "name": "stdout",
          "text": [
            "2\n"
          ]
        }
      ]
    },
    {
      "cell_type": "code",
      "source": [
        "while len(l) < 10:\n",
        "  print(l)\n",
        "  l = l + \"%\""
      ],
      "metadata": {
        "colab": {
          "base_uri": "https://localhost:8080/"
        },
        "id": "RKZwzD7bhtRS",
        "outputId": "ef521249-4516-4e57-a39f-8aa7ea84b2cb"
      },
      "execution_count": null,
      "outputs": [
        {
          "output_type": "stream",
          "name": "stdout",
          "text": [
            "%%\n",
            "%%%\n",
            "%%%%\n",
            "%%%%%\n",
            "%%%%%%\n",
            "%%%%%%%\n",
            "%%%%%%%%\n",
            "%%%%%%%%%\n"
          ]
        }
      ]
    },
    {
      "cell_type": "code",
      "source": [
        "print('%'*20)\n",
        "print('%'*20)\n",
        "print('%'*20)\n",
        "print('%'*1 + ' '*18 + '%'*1)\n",
        "print('%'*20)\n",
        "print('%'*20)\n",
        "print('%'*20)"
      ],
      "metadata": {
        "colab": {
          "base_uri": "https://localhost:8080/"
        },
        "id": "6e_CducylLqj",
        "outputId": "7a8b1737-6a3a-4e56-d105-488ff7c3ad7b"
      },
      "execution_count": null,
      "outputs": [
        {
          "output_type": "stream",
          "name": "stdout",
          "text": [
            "%%%%%%%%%%%%%%%%%%%%\n",
            "%%%%%%%%%%%%%%%%%%%%\n",
            "%%%%%%%%%%%%%%%%%%%%\n",
            "%                  %\n",
            "%%%%%%%%%%%%%%%%%%%%\n",
            "%%%%%%%%%%%%%%%%%%%%\n",
            "%%%%%%%%%%%%%%%%%%%%\n"
          ]
        }
      ]
    },
    {
      "cell_type": "code",
      "source": [
        "print('%'*12)\n",
        "print('%'*1 + ' '*10 + '%'*1)\n",
        "print('%'*1 + ' '*10 + '%'*1)\n",
        "print('%'*1 + ' '*10 + '%'*1)\n",
        "print('%'*1 + ' '*10 + '%'*1)\n",
        "print('%'*12)"
      ],
      "metadata": {
        "colab": {
          "base_uri": "https://localhost:8080/"
        },
        "id": "B3aXvRIqlMs_",
        "outputId": "01134908-0eac-4185-f8b3-5f2f22e40859"
      },
      "execution_count": null,
      "outputs": [
        {
          "output_type": "stream",
          "name": "stdout",
          "text": [
            "%%%%%%%%%%%%\n",
            "%          %\n",
            "%          %\n",
            "%          %\n",
            "%          %\n",
            "%%%%%%%%%%%%\n"
          ]
        }
      ]
    },
    {
      "cell_type": "code",
      "source": [
        "print('%'*20)\n",
        "print('%'*1 + ' '*18 + '%'*1)\n",
        "print('%'*1 + ' '*18 + '%'*1)\n",
        "print('%'*1 + ' '*18 + '%'*1)\n",
        "print('%'*1 + ' '*18 + '%'*1)\n",
        "print('%'*1 + ' '*18 + '%'*1)\n",
        "print('%'*1 + ' '*18 + '%'*1)\n",
        "print('%'*20)"
      ],
      "metadata": {
        "colab": {
          "base_uri": "https://localhost:8080/"
        },
        "id": "NoYbsXJflQTy",
        "outputId": "7751e293-66f7-4502-f6be-106a2d0debf3"
      },
      "execution_count": null,
      "outputs": [
        {
          "output_type": "stream",
          "name": "stdout",
          "text": [
            "%%%%%%%%%%%%%%%%%%%%\n",
            "%                  %\n",
            "%                  %\n",
            "%                  %\n",
            "%                  %\n",
            "%                  %\n",
            "%                  %\n",
            "%%%%%%%%%%%%%%%%%%%%\n"
          ]
        }
      ]
    },
    {
      "cell_type": "code",
      "source": [
        "temp = 0\n",
        "while temp!=-1000:\n",
        "  temp = eval(input('Enter a temperature (-1000 to quit): '))\n",
        "  print('In Fahrenheit that is', 9/5*temp+32)"
      ],
      "metadata": {
        "colab": {
          "base_uri": "https://localhost:8080/"
        },
        "id": "nEaCXIwhmBKd",
        "outputId": "d88462cd-baf9-4cab-b0cb-386aae697e09"
      },
      "execution_count": null,
      "outputs": [
        {
          "output_type": "stream",
          "name": "stdout",
          "text": [
            "Enter a temperature (-1000 to quit): 1\n",
            "In Fahrenheit that is 33.8\n",
            "Enter a temperature (-1000 to quit): 14\n",
            "In Fahrenheit that is 57.2\n",
            "Enter a temperature (-1000 to quit): -1000\n",
            "In Fahrenheit that is -1768.0\n"
          ]
        }
      ]
    },
    {
      "cell_type": "code",
      "source": [
        "centimetre = 0\n",
        "while centimetre < 100:\n",
        "  centimetre = eval(input('Enter a centimetre: '))\n",
        "  print('In meters that is', centimetre/100)"
      ],
      "metadata": {
        "colab": {
          "base_uri": "https://localhost:8080/",
          "height": 333
        },
        "id": "dAFC2DUnqpNd",
        "outputId": "f8894720-7ded-41c1-d9d0-20f69ae30859"
      },
      "execution_count": null,
      "outputs": [
        {
          "output_type": "error",
          "ename": "KeyboardInterrupt",
          "evalue": "Interrupted by user",
          "traceback": [
            "\u001b[0;31m---------------------------------------------------------------------------\u001b[0m",
            "\u001b[0;31mKeyboardInterrupt\u001b[0m                         Traceback (most recent call last)",
            "\u001b[0;32m<ipython-input-42-85183cf586e0>\u001b[0m in \u001b[0;36m<cell line: 2>\u001b[0;34m()\u001b[0m\n\u001b[1;32m      1\u001b[0m \u001b[0mcentimetre\u001b[0m \u001b[0;34m=\u001b[0m \u001b[0;36m0\u001b[0m\u001b[0;34m\u001b[0m\u001b[0;34m\u001b[0m\u001b[0m\n\u001b[1;32m      2\u001b[0m \u001b[0;32mwhile\u001b[0m \u001b[0mcentimetre\u001b[0m \u001b[0;34m<\u001b[0m \u001b[0;36m100\u001b[0m\u001b[0;34m:\u001b[0m\u001b[0;34m\u001b[0m\u001b[0;34m\u001b[0m\u001b[0m\n\u001b[0;32m----> 3\u001b[0;31m   \u001b[0mcentimetre\u001b[0m \u001b[0;34m=\u001b[0m \u001b[0meval\u001b[0m\u001b[0;34m(\u001b[0m\u001b[0minput\u001b[0m\u001b[0;34m(\u001b[0m\u001b[0;34m'Enter a centimetre: '\u001b[0m\u001b[0;34m)\u001b[0m\u001b[0;34m)\u001b[0m\u001b[0;34m\u001b[0m\u001b[0;34m\u001b[0m\u001b[0m\n\u001b[0m\u001b[1;32m      4\u001b[0m   \u001b[0mprint\u001b[0m\u001b[0;34m(\u001b[0m\u001b[0;34m'In meters that is'\u001b[0m\u001b[0;34m,\u001b[0m \u001b[0mcentimetre\u001b[0m\u001b[0;34m/\u001b[0m\u001b[0;36m100\u001b[0m\u001b[0;34m)\u001b[0m\u001b[0;34m\u001b[0m\u001b[0;34m\u001b[0m\u001b[0m\n",
            "\u001b[0;32m/usr/local/lib/python3.10/dist-packages/ipykernel/kernelbase.py\u001b[0m in \u001b[0;36mraw_input\u001b[0;34m(self, prompt)\u001b[0m\n\u001b[1;32m    849\u001b[0m                 \u001b[0;34m\"raw_input was called, but this frontend does not support input requests.\"\u001b[0m\u001b[0;34m\u001b[0m\u001b[0;34m\u001b[0m\u001b[0m\n\u001b[1;32m    850\u001b[0m             )\n\u001b[0;32m--> 851\u001b[0;31m         return self._input_request(str(prompt),\n\u001b[0m\u001b[1;32m    852\u001b[0m             \u001b[0mself\u001b[0m\u001b[0;34m.\u001b[0m\u001b[0m_parent_ident\u001b[0m\u001b[0;34m,\u001b[0m\u001b[0;34m\u001b[0m\u001b[0;34m\u001b[0m\u001b[0m\n\u001b[1;32m    853\u001b[0m             \u001b[0mself\u001b[0m\u001b[0;34m.\u001b[0m\u001b[0m_parent_header\u001b[0m\u001b[0;34m,\u001b[0m\u001b[0;34m\u001b[0m\u001b[0;34m\u001b[0m\u001b[0m\n",
            "\u001b[0;32m/usr/local/lib/python3.10/dist-packages/ipykernel/kernelbase.py\u001b[0m in \u001b[0;36m_input_request\u001b[0;34m(self, prompt, ident, parent, password)\u001b[0m\n\u001b[1;32m    893\u001b[0m             \u001b[0;32mexcept\u001b[0m \u001b[0mKeyboardInterrupt\u001b[0m\u001b[0;34m:\u001b[0m\u001b[0;34m\u001b[0m\u001b[0;34m\u001b[0m\u001b[0m\n\u001b[1;32m    894\u001b[0m                 \u001b[0;31m# re-raise KeyboardInterrupt, to truncate traceback\u001b[0m\u001b[0;34m\u001b[0m\u001b[0;34m\u001b[0m\u001b[0m\n\u001b[0;32m--> 895\u001b[0;31m                 \u001b[0;32mraise\u001b[0m \u001b[0mKeyboardInterrupt\u001b[0m\u001b[0;34m(\u001b[0m\u001b[0;34m\"Interrupted by user\"\u001b[0m\u001b[0;34m)\u001b[0m \u001b[0;32mfrom\u001b[0m \u001b[0;32mNone\u001b[0m\u001b[0;34m\u001b[0m\u001b[0;34m\u001b[0m\u001b[0m\n\u001b[0m\u001b[1;32m    896\u001b[0m             \u001b[0;32mexcept\u001b[0m \u001b[0mException\u001b[0m \u001b[0;32mas\u001b[0m \u001b[0me\u001b[0m\u001b[0;34m:\u001b[0m\u001b[0;34m\u001b[0m\u001b[0;34m\u001b[0m\u001b[0m\n\u001b[1;32m    897\u001b[0m                 \u001b[0mself\u001b[0m\u001b[0;34m.\u001b[0m\u001b[0mlog\u001b[0m\u001b[0;34m.\u001b[0m\u001b[0mwarning\u001b[0m\u001b[0;34m(\u001b[0m\u001b[0;34m\"Invalid Message:\"\u001b[0m\u001b[0;34m,\u001b[0m \u001b[0mexc_info\u001b[0m\u001b[0;34m=\u001b[0m\u001b[0;32mTrue\u001b[0m\u001b[0;34m)\u001b[0m\u001b[0;34m\u001b[0m\u001b[0;34m\u001b[0m\u001b[0m\n",
            "\u001b[0;31mKeyboardInterrupt\u001b[0m: Interrupted by user"
          ]
        }
      ]
    },
    {
      "cell_type": "code",
      "source": [
        "i=0\n",
        "while i<50:\n",
        "  print(i)\n",
        "  i=i+2\n",
        "print('Bye!')"
      ],
      "metadata": {
        "colab": {
          "base_uri": "https://localhost:8080/"
        },
        "id": "ReCKdTI1uWy2",
        "outputId": "cbdc75b9-c1ec-405b-8a3f-0620d83ed353"
      },
      "execution_count": null,
      "outputs": [
        {
          "output_type": "stream",
          "name": "stdout",
          "text": [
            "0\n",
            "2\n",
            "4\n",
            "6\n",
            "8\n",
            "10\n",
            "12\n",
            "14\n",
            "16\n",
            "18\n",
            "20\n",
            "22\n",
            "24\n",
            "26\n",
            "28\n",
            "30\n",
            "32\n",
            "34\n",
            "36\n",
            "38\n",
            "40\n",
            "42\n",
            "44\n",
            "46\n",
            "48\n",
            "Bye!\n"
          ]
        }
      ]
    },
    {
      "cell_type": "code",
      "source": [
        "a=3\n",
        "while a<50:\n",
        "  print(a)\n",
        "  a=a+3\n",
        "print('Bye!')"
      ],
      "metadata": {
        "colab": {
          "base_uri": "https://localhost:8080/"
        },
        "id": "N58VsLCOuvb2",
        "outputId": "a2fb9acb-52dc-460d-b3fe-0bc6c7b036fc"
      },
      "execution_count": null,
      "outputs": [
        {
          "output_type": "stream",
          "name": "stdout",
          "text": [
            "3\n",
            "6\n",
            "9\n",
            "12\n",
            "15\n",
            "18\n",
            "21\n",
            "24\n",
            "27\n",
            "30\n",
            "33\n",
            "36\n",
            "39\n",
            "42\n",
            "45\n",
            "48\n",
            "Bye!\n"
          ]
        }
      ]
    },
    {
      "cell_type": "code",
      "source": [
        "temp = 0\n",
        "while temp!=-1000:\n",
        "  temp = eval(input('Enter a temperature (-1000 to quit): '))\n",
        "  if temp!=-1000:\n",
        "    print('In Fahrenheit that is', 9/5*temp+32)\n",
        "  else:\n",
        "    print('Bye!')"
      ],
      "metadata": {
        "id": "ihf3BvpVvdE6",
        "colab": {
          "base_uri": "https://localhost:8080/"
        },
        "outputId": "3b849116-8afa-4ceb-fcff-dc07399a6825"
      },
      "execution_count": null,
      "outputs": [
        {
          "name": "stdout",
          "output_type": "stream",
          "text": [
            "Enter a temperature (-1000 to quit): -1000\\\n"
          ]
        }
      ]
    },
    {
      "cell_type": "code",
      "source": [
        "from random import randint\n",
        "secret_num = randint(1,10)\n",
        "guess = 0\n",
        "while guess != secret_num:\n",
        "  guess = eval(input('Guess the secret number: '))\n",
        "  print('You finally got it!')"
      ],
      "metadata": {
        "colab": {
          "base_uri": "https://localhost:8080/"
        },
        "id": "ArDraJAwKuhw",
        "outputId": "cf4d68d1-04d1-4e55-f4fc-884dbf60418b"
      },
      "execution_count": null,
      "outputs": [
        {
          "name": "stdout",
          "output_type": "stream",
          "text": [
            "You finally got it!\n",
            "You finally got it!\n",
            "You finally got it!\n",
            "Guess the secret number: 45\n"
          ]
        }
      ]
    },
    {
      "cell_type": "markdown",
      "source": [
        "# New section"
      ],
      "metadata": {
        "id": "mvBtxmQocGhz"
      }
    },
    {
      "cell_type": "code",
      "source": [
        "for i in range(10):\n",
        "i=0\n",
        "print(i)\n",
        "while i<10\n",
        "i=i+1\n",
        "print(i)"
      ],
      "metadata": {
        "id": "9i7mQ0G5LQkP"
      },
      "execution_count": null,
      "outputs": []
    },
    {
      "cell_type": "code",
      "source": [
        "temp = eval(input('Enter a temperature in Celsius: '))\n",
        "print('In Fanherit, that is', 9/5*temp+32)"
      ],
      "metadata": {
        "id": "2P0jenX4OGj9"
      },
      "execution_count": null,
      "outputs": []
    },
    {
      "cell_type": "code",
      "source": [
        "from google.colab import drive\n",
        "drive.mount('/content/drive')"
      ],
      "metadata": {
        "id": "q57vEveye_pR"
      },
      "execution_count": null,
      "outputs": []
    },
    {
      "cell_type": "code",
      "source": [
        "challenge = '12345678910'\n",
        "while len(challenge) > 0:\n",
        "  print(challenge)\n",
        "  challenge = challenge[1:]"
      ],
      "metadata": {
        "id": "U3sMszLTdfpp"
      },
      "execution_count": null,
      "outputs": []
    },
    {
      "cell_type": "markdown",
      "source": [],
      "metadata": {
        "id": "QaP43DeGimcw"
      }
    },
    {
      "cell_type": "code",
      "source": [
        "days = ['Monday','Tuesday','Wednesday','Thursday','Friday']\n",
        "\n",
        "for i in days:\n",
        "  print(i)"
      ],
      "metadata": {
        "id": "T7gf10ArzdXG"
      },
      "execution_count": null,
      "outputs": []
    },
    {
      "cell_type": "code",
      "source": [
        "# Looping over a string\n",
        "for char in 'Monday':\n",
        "    print(char)"
      ],
      "metadata": {
        "id": "-L3ls2GLEOWI"
      },
      "execution_count": null,
      "outputs": []
    },
    {
      "cell_type": "code",
      "source": [
        "me = {\n",
        "    'name':'Aralola',\n",
        "    'gender':'Male',\n",
        "    'age' : 10,\n",
        "}\n",
        "\n",
        "for key in me:\n",
        "  print(key,me[key])"
      ],
      "metadata": {
        "colab": {
          "base_uri": "https://localhost:8080/"
        },
        "id": "vxL5QXjmYGmh",
        "outputId": "4e7ea95f-43b1-493f-b8e7-c3f05ae34cb9"
      },
      "execution_count": null,
      "outputs": [
        {
          "output_type": "stream",
          "name": "stdout",
          "text": [
            "name Aralola\n",
            "gender Male\n",
            "age 10\n"
          ]
        }
      ]
    },
    {
      "cell_type": "code",
      "source": [
        "for i in range(10):\n",
        "  print('Hello')"
      ],
      "metadata": {
        "colab": {
          "base_uri": "https://localhost:8080/"
        },
        "id": "US6L2-NFY0lw",
        "outputId": "68c7ee3c-b127-43af-d2b7-258f9e2801b9"
      },
      "execution_count": null,
      "outputs": [
        {
          "output_type": "stream",
          "name": "stdout",
          "text": [
            "Hello\n",
            "Hello\n",
            "Hello\n",
            "Hello\n",
            "Hello\n",
            "Hello\n",
            "Hello\n",
            "Hello\n",
            "Hello\n",
            "Hello\n"
          ]
        }
      ]
    },
    {
      "cell_type": "code",
      "source": [
        "for i in range(3):\n",
        "  num = eval(input('Enter a number: '))\n",
        "  print ('The square of your number is', num*num)\n",
        "print('The loop is now done.')"
      ],
      "metadata": {
        "colab": {
          "base_uri": "https://localhost:8080/"
        },
        "id": "ek9UcwrGazWR",
        "outputId": "dfc5f3ef-0a42-4b0c-b6c4-abaa9f1401bb"
      },
      "execution_count": null,
      "outputs": [
        {
          "output_type": "stream",
          "name": "stdout",
          "text": [
            "Enter a number: 21217364758736218643668237414970494\n",
            "The square of your number is 450176567305261637573240058636028661146050255198205732198666890604036\n",
            "Enter a number: 2039277657473828305620958731058761084\n",
            "The square of your number is 4158653364271944603038490565542035536815237361341472017309101672992855056\n",
            "Enter a number: 1256542\n",
            "The square of your number is 1578897797764\n",
            "The loop is now done.\n"
          ]
        }
      ]
    },
    {
      "cell_type": "code",
      "source": [
        "print('A')\n",
        "print('B')\n",
        "for i in range(5):\n",
        "  print('C')\n",
        "  print('D')\n",
        "print('E')"
      ],
      "metadata": {
        "colab": {
          "base_uri": "https://localhost:8080/"
        },
        "id": "uF8DdJmIa_mt",
        "outputId": "8f8b1526-bbe9-4168-9289-6ac0f1e57469"
      },
      "execution_count": null,
      "outputs": [
        {
          "output_type": "stream",
          "name": "stdout",
          "text": [
            "A\n",
            "B\n",
            "C\n",
            "D\n",
            "C\n",
            "D\n",
            "C\n",
            "D\n",
            "C\n",
            "D\n",
            "C\n",
            "D\n",
            "E\n"
          ]
        }
      ]
    },
    {
      "cell_type": "code",
      "source": [
        "for i in range(5):\n",
        "  print('C')\n",
        "  print('D')"
      ],
      "metadata": {
        "colab": {
          "base_uri": "https://localhost:8080/"
        },
        "id": "0ve4vYxEb-Af",
        "outputId": "bc1e34ad-8711-45d5-c3d8-832ad7b8af2c"
      },
      "execution_count": null,
      "outputs": [
        {
          "output_type": "stream",
          "name": "stdout",
          "text": [
            "C\n",
            "D\n",
            "C\n",
            "D\n",
            "C\n",
            "D\n",
            "C\n",
            "D\n",
            "C\n",
            "D\n"
          ]
        }
      ]
    },
    {
      "cell_type": "code",
      "source": [
        "for i in range(10):\n",
        "  print(\"Aralola\")\n",
        "  print('I am now in JSS1')"
      ],
      "metadata": {
        "colab": {
          "base_uri": "https://localhost:8080/"
        },
        "id": "cIs3bUobcon_",
        "outputId": "1afa1a22-6bab-4bd8-9f07-a765e9ba9a43"
      },
      "execution_count": null,
      "outputs": [
        {
          "output_type": "stream",
          "name": "stdout",
          "text": [
            "Aralola\n",
            "I am now in JSS1\n",
            "Aralola\n",
            "I am now in JSS1\n",
            "Aralola\n",
            "I am now in JSS1\n",
            "Aralola\n",
            "I am now in JSS1\n",
            "Aralola\n",
            "I am now in JSS1\n",
            "Aralola\n",
            "I am now in JSS1\n",
            "Aralola\n",
            "I am now in JSS1\n",
            "Aralola\n",
            "I am now in JSS1\n",
            "Aralola\n",
            "I am now in JSS1\n",
            "Aralola\n",
            "I am now in JSS1\n"
          ]
        }
      ]
    },
    {
      "cell_type": "code",
      "source": [
        "print('A')\n",
        "print('B')\n",
        "for i in range(5):\n",
        "  print('C')\n",
        "for i in range(5):\n",
        "  print('D')\n",
        "print('E')"
      ],
      "metadata": {
        "colab": {
          "base_uri": "https://localhost:8080/"
        },
        "id": "Mj8v2-wcdH9V",
        "outputId": "5a6a99d6-fc59-41c5-964c-ae84edfd5ee0"
      },
      "execution_count": null,
      "outputs": [
        {
          "output_type": "stream",
          "name": "stdout",
          "text": [
            "A\n",
            "B\n",
            "C\n",
            "C\n",
            "C\n",
            "C\n",
            "C\n",
            "D\n",
            "D\n",
            "D\n",
            "D\n",
            "D\n",
            "E\n"
          ]
        }
      ]
    },
    {
      "cell_type": "code",
      "source": [
        "for i in range(100):\n",
        "  print(i)"
      ],
      "metadata": {
        "colab": {
          "base_uri": "https://localhost:8080/"
        },
        "id": "Lutk8cTVeCVE",
        "outputId": "834e9fa7-f1d0-4f48-f96a-d293cc67e82a"
      },
      "execution_count": null,
      "outputs": [
        {
          "output_type": "stream",
          "name": "stdout",
          "text": [
            "0\n",
            "1\n",
            "2\n",
            "3\n",
            "4\n",
            "5\n",
            "6\n",
            "7\n",
            "8\n",
            "9\n",
            "10\n",
            "11\n",
            "12\n",
            "13\n",
            "14\n",
            "15\n",
            "16\n",
            "17\n",
            "18\n",
            "19\n",
            "20\n",
            "21\n",
            "22\n",
            "23\n",
            "24\n",
            "25\n",
            "26\n",
            "27\n",
            "28\n",
            "29\n",
            "30\n",
            "31\n",
            "32\n",
            "33\n",
            "34\n",
            "35\n",
            "36\n",
            "37\n",
            "38\n",
            "39\n",
            "40\n",
            "41\n",
            "42\n",
            "43\n",
            "44\n",
            "45\n",
            "46\n",
            "47\n",
            "48\n",
            "49\n",
            "50\n",
            "51\n",
            "52\n",
            "53\n",
            "54\n",
            "55\n",
            "56\n",
            "57\n",
            "58\n",
            "59\n",
            "60\n",
            "61\n",
            "62\n",
            "63\n",
            "64\n",
            "65\n",
            "66\n",
            "67\n",
            "68\n",
            "69\n",
            "70\n",
            "71\n",
            "72\n",
            "73\n",
            "74\n",
            "75\n",
            "76\n",
            "77\n",
            "78\n",
            "79\n",
            "80\n",
            "81\n",
            "82\n",
            "83\n",
            "84\n",
            "85\n",
            "86\n",
            "87\n",
            "88\n",
            "89\n",
            "90\n",
            "91\n",
            "92\n",
            "93\n",
            "94\n",
            "95\n",
            "96\n",
            "97\n",
            "98\n",
            "99\n"
          ]
        }
      ]
    },
    {
      "cell_type": "code",
      "source": [
        "for i in range(3):\n",
        "  print(i+1, '-- Hello')"
      ],
      "metadata": {
        "colab": {
          "base_uri": "https://localhost:8080/"
        },
        "id": "OJ205EyOf6lU",
        "outputId": "1451ad21-f16b-4009-8f85-d9111190b0dd"
      },
      "execution_count": null,
      "outputs": [
        {
          "output_type": "stream",
          "name": "stdout",
          "text": [
            "1 -- Hello\n",
            "2 -- Hello\n",
            "3 -- Hello\n"
          ]
        }
      ]
    },
    {
      "cell_type": "code",
      "source": [
        "for i in range(3):\n",
        "  print(i + 1, \"-- Aralola\")"
      ],
      "metadata": {
        "colab": {
          "base_uri": "https://localhost:8080/"
        },
        "id": "6ufhB_rOf_jQ",
        "outputId": "a57da16e-e524-44d3-c61d-2cbfb7c4f842"
      },
      "execution_count": null,
      "outputs": [
        {
          "output_type": "stream",
          "name": "stdout",
          "text": [
            "1 -- Aralola\n",
            "2 -- Aralola\n",
            "3 -- Aralola\n"
          ]
        }
      ]
    },
    {
      "cell_type": "code",
      "source": [
        "for i in range(5,0,-1):\n",
        "  print(i, end=' ')\n",
        "print('Blast off!!')"
      ],
      "metadata": {
        "colab": {
          "base_uri": "https://localhost:8080/"
        },
        "id": "wv0UrVhKgfz8",
        "outputId": "4d262cae-38c5-476d-966d-d41fe01882eb"
      },
      "execution_count": null,
      "outputs": [
        {
          "output_type": "stream",
          "name": "stdout",
          "text": [
            "5 4 3 2 1 Blast off!!\n"
          ]
        }
      ]
    },
    {
      "cell_type": "code",
      "source": [
        "for i in range(5,0,-1):\n",
        "  print(i,end = ' ')\n",
        "print('Blast off !!')"
      ],
      "metadata": {
        "colab": {
          "base_uri": "https://localhost:8080/"
        },
        "id": "Cyoim2nGiax_",
        "outputId": "989c377d-3771-4938-bf40-67cadd5694d1"
      },
      "execution_count": null,
      "outputs": [
        {
          "output_type": "stream",
          "name": "stdout",
          "text": [
            "5 4 3 2 1 Blast off !!\n"
          ]
        }
      ]
    },
    {
      "cell_type": "code",
      "source": [
        "for i in range(4):\n",
        "  print('*'*6)"
      ],
      "metadata": {
        "colab": {
          "base_uri": "https://localhost:8080/"
        },
        "id": "aTv7ljfEiuLV",
        "outputId": "dd26eb7e-00a8-4382-9453-bfc3868b150f"
      },
      "execution_count": null,
      "outputs": [
        {
          "output_type": "stream",
          "name": "stdout",
          "text": [
            "******\n",
            "******\n",
            "******\n",
            "******\n"
          ]
        }
      ]
    },
    {
      "cell_type": "code",
      "source": [
        "for i in range(4):\n",
        "  print('*'*(i+1))"
      ],
      "metadata": {
        "colab": {
          "base_uri": "https://localhost:8080/"
        },
        "id": "siEpO0Ckjr2t",
        "outputId": "292e8d9a-bec8-4d42-9797-0a2e00b1364d"
      },
      "execution_count": null,
      "outputs": [
        {
          "output_type": "stream",
          "name": "stdout",
          "text": [
            "*\n",
            "**\n",
            "***\n",
            "****\n"
          ]
        }
      ]
    },
    {
      "cell_type": "code",
      "source": [
        "for i in range(0,1-100):\n",
        "  print(\"Aralola\")"
      ],
      "metadata": {
        "id": "_Qp_5YsdkRFd"
      },
      "execution_count": null,
      "outputs": []
    },
    {
      "cell_type": "code",
      "source": [
        "for i in range(100):\n",
        "  print(\"Aralola\")"
      ],
      "metadata": {
        "colab": {
          "base_uri": "https://localhost:8080/"
        },
        "id": "TluMlTWLlSGo",
        "outputId": "418eccb2-2f5f-4d73-d33e-54c6b69a385a"
      },
      "execution_count": null,
      "outputs": [
        {
          "output_type": "stream",
          "name": "stdout",
          "text": [
            "Aralola\n",
            "Aralola\n",
            "Aralola\n",
            "Aralola\n",
            "Aralola\n",
            "Aralola\n",
            "Aralola\n",
            "Aralola\n",
            "Aralola\n",
            "Aralola\n",
            "Aralola\n",
            "Aralola\n",
            "Aralola\n",
            "Aralola\n",
            "Aralola\n",
            "Aralola\n",
            "Aralola\n",
            "Aralola\n",
            "Aralola\n",
            "Aralola\n",
            "Aralola\n",
            "Aralola\n",
            "Aralola\n",
            "Aralola\n",
            "Aralola\n",
            "Aralola\n",
            "Aralola\n",
            "Aralola\n",
            "Aralola\n",
            "Aralola\n",
            "Aralola\n",
            "Aralola\n",
            "Aralola\n",
            "Aralola\n",
            "Aralola\n",
            "Aralola\n",
            "Aralola\n",
            "Aralola\n",
            "Aralola\n",
            "Aralola\n",
            "Aralola\n",
            "Aralola\n",
            "Aralola\n",
            "Aralola\n",
            "Aralola\n",
            "Aralola\n",
            "Aralola\n",
            "Aralola\n",
            "Aralola\n",
            "Aralola\n",
            "Aralola\n",
            "Aralola\n",
            "Aralola\n",
            "Aralola\n",
            "Aralola\n",
            "Aralola\n",
            "Aralola\n",
            "Aralola\n",
            "Aralola\n",
            "Aralola\n",
            "Aralola\n",
            "Aralola\n",
            "Aralola\n",
            "Aralola\n",
            "Aralola\n",
            "Aralola\n",
            "Aralola\n",
            "Aralola\n",
            "Aralola\n",
            "Aralola\n",
            "Aralola\n",
            "Aralola\n",
            "Aralola\n",
            "Aralola\n",
            "Aralola\n",
            "Aralola\n",
            "Aralola\n",
            "Aralola\n",
            "Aralola\n",
            "Aralola\n",
            "Aralola\n",
            "Aralola\n",
            "Aralola\n",
            "Aralola\n",
            "Aralola\n",
            "Aralola\n",
            "Aralola\n",
            "Aralola\n",
            "Aralola\n",
            "Aralola\n",
            "Aralola\n",
            "Aralola\n",
            "Aralola\n",
            "Aralola\n",
            "Aralola\n",
            "Aralola\n",
            "Aralola\n",
            "Aralola\n",
            "Aralola\n",
            "Aralola\n"
          ]
        }
      ]
    },
    {
      "cell_type": "code",
      "source": [
        "for i in range(0,100):\n",
        "  print( i + 1 ,\"Aralola\")"
      ],
      "metadata": {
        "colab": {
          "base_uri": "https://localhost:8080/"
        },
        "id": "TndOs4sjoXCw",
        "outputId": "00e1396a-12ce-4288-c953-566efa5041d8"
      },
      "execution_count": null,
      "outputs": [
        {
          "output_type": "stream",
          "name": "stdout",
          "text": [
            "1 Aralola\n",
            "2 Aralola\n",
            "3 Aralola\n",
            "4 Aralola\n",
            "5 Aralola\n",
            "6 Aralola\n",
            "7 Aralola\n",
            "8 Aralola\n",
            "9 Aralola\n",
            "10 Aralola\n",
            "11 Aralola\n",
            "12 Aralola\n",
            "13 Aralola\n",
            "14 Aralola\n",
            "15 Aralola\n",
            "16 Aralola\n",
            "17 Aralola\n",
            "18 Aralola\n",
            "19 Aralola\n",
            "20 Aralola\n",
            "21 Aralola\n",
            "22 Aralola\n",
            "23 Aralola\n",
            "24 Aralola\n",
            "25 Aralola\n",
            "26 Aralola\n",
            "27 Aralola\n",
            "28 Aralola\n",
            "29 Aralola\n",
            "30 Aralola\n",
            "31 Aralola\n",
            "32 Aralola\n",
            "33 Aralola\n",
            "34 Aralola\n",
            "35 Aralola\n",
            "36 Aralola\n",
            "37 Aralola\n",
            "38 Aralola\n",
            "39 Aralola\n",
            "40 Aralola\n",
            "41 Aralola\n",
            "42 Aralola\n",
            "43 Aralola\n",
            "44 Aralola\n",
            "45 Aralola\n",
            "46 Aralola\n",
            "47 Aralola\n",
            "48 Aralola\n",
            "49 Aralola\n",
            "50 Aralola\n",
            "51 Aralola\n",
            "52 Aralola\n",
            "53 Aralola\n",
            "54 Aralola\n",
            "55 Aralola\n",
            "56 Aralola\n",
            "57 Aralola\n",
            "58 Aralola\n",
            "59 Aralola\n",
            "60 Aralola\n",
            "61 Aralola\n",
            "62 Aralola\n",
            "63 Aralola\n",
            "64 Aralola\n",
            "65 Aralola\n",
            "66 Aralola\n",
            "67 Aralola\n",
            "68 Aralola\n",
            "69 Aralola\n",
            "70 Aralola\n",
            "71 Aralola\n",
            "72 Aralola\n",
            "73 Aralola\n",
            "74 Aralola\n",
            "75 Aralola\n",
            "76 Aralola\n",
            "77 Aralola\n",
            "78 Aralola\n",
            "79 Aralola\n",
            "80 Aralola\n",
            "81 Aralola\n",
            "82 Aralola\n",
            "83 Aralola\n",
            "84 Aralola\n",
            "85 Aralola\n",
            "86 Aralola\n",
            "87 Aralola\n",
            "88 Aralola\n",
            "89 Aralola\n",
            "90 Aralola\n",
            "91 Aralola\n",
            "92 Aralola\n",
            "93 Aralola\n",
            "94 Aralola\n",
            "95 Aralola\n",
            "96 Aralola\n",
            "97 Aralola\n",
            "98 Aralola\n",
            "99 Aralola\n",
            "100 Aralola\n"
          ]
        }
      ]
    },
    {
      "cell_type": "code",
      "source": [
        "for i in range(21):\n",
        "  print(i+1,\"--\",(i + 1 ) ** 2)"
      ],
      "metadata": {
        "colab": {
          "base_uri": "https://localhost:8080/"
        },
        "id": "UY9QeXIXo6p3",
        "outputId": "29c23443-9963-40a0-c22e-8e555f783ab3"
      },
      "execution_count": null,
      "outputs": [
        {
          "output_type": "stream",
          "name": "stdout",
          "text": [
            "1 -- 1\n",
            "2 -- 4\n",
            "3 -- 9\n",
            "4 -- 16\n",
            "5 -- 25\n",
            "6 -- 36\n",
            "7 -- 49\n",
            "8 -- 64\n",
            "9 -- 81\n",
            "10 -- 100\n",
            "11 -- 121\n",
            "12 -- 144\n",
            "13 -- 169\n",
            "14 -- 196\n",
            "15 -- 225\n",
            "16 -- 256\n",
            "17 -- 289\n",
            "18 -- 324\n",
            "19 -- 361\n",
            "20 -- 400\n",
            "21 -- 441\n"
          ]
        }
      ]
    },
    {
      "cell_type": "code",
      "source": [
        "for i in range(100):\n",
        "  print(i + 1,\"--\",(i + 1) ** 3)"
      ],
      "metadata": {
        "colab": {
          "base_uri": "https://localhost:8080/"
        },
        "id": "B1XkLuyKrZPK",
        "outputId": "083c5d67-a7c5-4296-8b19-f35c6b3336bc"
      },
      "execution_count": null,
      "outputs": [
        {
          "output_type": "stream",
          "name": "stdout",
          "text": [
            "1 -- 1\n",
            "2 -- 8\n",
            "3 -- 27\n",
            "4 -- 64\n",
            "5 -- 125\n",
            "6 -- 216\n",
            "7 -- 343\n",
            "8 -- 512\n",
            "9 -- 729\n",
            "10 -- 1000\n",
            "11 -- 1331\n",
            "12 -- 1728\n",
            "13 -- 2197\n",
            "14 -- 2744\n",
            "15 -- 3375\n",
            "16 -- 4096\n",
            "17 -- 4913\n",
            "18 -- 5832\n",
            "19 -- 6859\n",
            "20 -- 8000\n",
            "21 -- 9261\n",
            "22 -- 10648\n",
            "23 -- 12167\n",
            "24 -- 13824\n",
            "25 -- 15625\n",
            "26 -- 17576\n",
            "27 -- 19683\n",
            "28 -- 21952\n",
            "29 -- 24389\n",
            "30 -- 27000\n",
            "31 -- 29791\n",
            "32 -- 32768\n",
            "33 -- 35937\n",
            "34 -- 39304\n",
            "35 -- 42875\n",
            "36 -- 46656\n",
            "37 -- 50653\n",
            "38 -- 54872\n",
            "39 -- 59319\n",
            "40 -- 64000\n",
            "41 -- 68921\n",
            "42 -- 74088\n",
            "43 -- 79507\n",
            "44 -- 85184\n",
            "45 -- 91125\n",
            "46 -- 97336\n",
            "47 -- 103823\n",
            "48 -- 110592\n",
            "49 -- 117649\n",
            "50 -- 125000\n",
            "51 -- 132651\n",
            "52 -- 140608\n",
            "53 -- 148877\n",
            "54 -- 157464\n",
            "55 -- 166375\n",
            "56 -- 175616\n",
            "57 -- 185193\n",
            "58 -- 195112\n",
            "59 -- 205379\n",
            "60 -- 216000\n",
            "61 -- 226981\n",
            "62 -- 238328\n",
            "63 -- 250047\n",
            "64 -- 262144\n",
            "65 -- 274625\n",
            "66 -- 287496\n",
            "67 -- 300763\n",
            "68 -- 314432\n",
            "69 -- 328509\n",
            "70 -- 343000\n",
            "71 -- 357911\n",
            "72 -- 373248\n",
            "73 -- 389017\n",
            "74 -- 405224\n",
            "75 -- 421875\n",
            "76 -- 438976\n",
            "77 -- 456533\n",
            "78 -- 474552\n",
            "79 -- 493039\n",
            "80 -- 512000\n",
            "81 -- 531441\n",
            "82 -- 551368\n",
            "83 -- 571787\n",
            "84 -- 592704\n",
            "85 -- 614125\n",
            "86 -- 636056\n",
            "87 -- 658503\n",
            "88 -- 681472\n",
            "89 -- 704969\n",
            "90 -- 729000\n",
            "91 -- 753571\n",
            "92 -- 778688\n",
            "93 -- 804357\n",
            "94 -- 830584\n",
            "95 -- 857375\n",
            "96 -- 884736\n",
            "97 -- 912673\n",
            "98 -- 941192\n",
            "99 -- 970299\n",
            "100 -- 1000000\n"
          ]
        }
      ]
    },
    {
      "cell_type": "code",
      "source": [
        "for i in range(8,90,3):\n",
        "  print(i, end= ' ')"
      ],
      "metadata": {
        "colab": {
          "base_uri": "https://localhost:8080/"
        },
        "id": "Bj4wTjTProBe",
        "outputId": "88088119-95fc-4a26-9625-4207e81b8c16"
      },
      "execution_count": null,
      "outputs": [
        {
          "output_type": "stream",
          "name": "stdout",
          "text": [
            "8 11 14 17 20 23 26 29 32 35 38 41 44 47 50 53 56 59 62 65 68 71 74 77 80 83 86 89 "
          ]
        }
      ]
    },
    {
      "cell_type": "code",
      "source": [
        "for i in range(100,96,98):\n",
        "   print(i, end= ' ')"
      ],
      "metadata": {
        "id": "FJUhhPmKi0XK"
      },
      "execution_count": 10,
      "outputs": []
    },
    {
      "cell_type": "code",
      "source": [
        "for i in range(7):\n",
        "  if i == 0:\n",
        "    print('  *  ')\n",
        "  elif i == 3:\n",
        "    print('*****')\n",
        "  else:\n",
        "    print('*   *')"
      ],
      "metadata": {
        "colab": {
          "base_uri": "https://localhost:8080/"
        },
        "id": "x5egAEZknfEO",
        "outputId": "ce5d78b0-818e-4ac1-c167-5c0bb14447ec"
      },
      "execution_count": 47,
      "outputs": [
        {
          "output_type": "stream",
          "name": "stdout",
          "text": [
            "  *  \n",
            "*   *\n",
            "*   *\n",
            "*****\n",
            "*   *\n",
            "*   *\n",
            "*   *\n"
          ]
        }
      ]
    },
    {
      "cell_type": "code",
      "source": [
        "My_Name= input('Enter a name here:')\n",
        "times = int(input('Enter the number of times you want your name to be printed:'))\n",
        "for i in range(times):\n",
        "  print(My_Name)"
      ],
      "metadata": {
        "colab": {
          "base_uri": "https://localhost:8080/"
        },
        "id": "oKaWMFacrer2",
        "outputId": "bd160a77-97de-4408-8c68-5b00cbe0322e"
      },
      "execution_count": 53,
      "outputs": [
        {
          "output_type": "stream",
          "name": "stdout",
          "text": [
            "Enter a name here:Aralola\n",
            "Enter the number of times you want your name to be printed:10\n",
            "Aralola\n",
            "Aralola\n",
            "Aralola\n",
            "Aralola\n",
            "Aralola\n",
            "Aralola\n",
            "Aralola\n",
            "Aralola\n",
            "Aralola\n",
            "Aralola\n"
          ]
        }
      ]
    },
    {
      "cell_type": "code",
      "source": [
        "print(\"*\" * 10)\n",
        "print(\"*\" * 10)\n",
        "print(\"*\" * 10)\n",
        "print(\"*\" * 10)\n",
        "print(\"*\" * 10)\n",
        "print(\"*\" * 10)\n",
        "print(\"*\" * 10)\n",
        "print(\"*\" * 10)\n",
        "print(\"*\" * 10)\n",
        "print(\"*\" * 10)"
      ],
      "metadata": {
        "colab": {
          "base_uri": "https://localhost:8080/"
        },
        "id": "mF3LCl7-90NV",
        "outputId": "562ad6de-cd9e-4db8-d0fb-461ed3570570"
      },
      "execution_count": 50,
      "outputs": [
        {
          "output_type": "stream",
          "name": "stdout",
          "text": [
            "**********\n",
            "**********\n",
            "**********\n",
            "**********\n",
            "**********\n",
            "**********\n",
            "**********\n",
            "**********\n",
            "**********\n",
            "**********\n"
          ]
        }
      ]
    },
    {
      "cell_type": "code",
      "source": [
        "print('*'*20)\n",
        "print('*'*1 + ' '*18 + '*'*1)\n",
        "print('*'*1 + ' '*18 + '*'*1)\n",
        "print('*'*1 + ' '*18 + '*'*1)\n",
        "print('*'*1 + ' '*18 + '*'*1)\n",
        "print('*'*1 + ' '*18 + '*'*1)\n",
        "print('*'*1 + ' '*18 + '*'*1)\n",
        "print('*'*20)"
      ],
      "metadata": {
        "colab": {
          "base_uri": "https://localhost:8080/"
        },
        "id": "6MyPTz36-0cO",
        "outputId": "ca9071cc-a005-45d5-e3c3-139e3665ae33"
      },
      "execution_count": 23,
      "outputs": [
        {
          "output_type": "stream",
          "name": "stdout",
          "text": [
            "********************\n",
            "*                  *\n",
            "*                  *\n",
            "*                  *\n",
            "*                  *\n",
            "*                  *\n",
            "*                  *\n",
            "********************\n"
          ]
        }
      ]
    },
    {
      "cell_type": "code",
      "source": [
        "print('*')\n",
        "print('**')\n",
        "print('***')\n",
        "print('****')"
      ],
      "metadata": {
        "colab": {
          "base_uri": "https://localhost:8080/"
        },
        "id": "2Rrj0HGMDozh",
        "outputId": "0fad1037-1947-44d3-fec0-0410a1c64ec7"
      },
      "execution_count": 24,
      "outputs": [
        {
          "output_type": "stream",
          "name": "stdout",
          "text": [
            "*\n",
            "**\n",
            "***\n",
            "****\n"
          ]
        }
      ]
    },
    {
      "cell_type": "code",
      "source": [
        "print('****')\n",
        "print('***')\n",
        "print('**')\n",
        "print('*')"
      ],
      "metadata": {
        "colab": {
          "base_uri": "https://localhost:8080/"
        },
        "id": "w-PUH3S9ELbZ",
        "outputId": "e10042ae-8d49-4099-f55e-7291a0707d7b"
      },
      "execution_count": 29,
      "outputs": [
        {
          "output_type": "stream",
          "name": "stdout",
          "text": [
            "****\n",
            "***\n",
            "**\n",
            "*\n"
          ]
        }
      ]
    },
    {
      "cell_type": "code",
      "source": [
        "print(*)"
      ],
      "metadata": {
        "colab": {
          "base_uri": "https://localhost:8080/"
        },
        "id": "Oqsm31G-Eoj1",
        "outputId": "bdcb43e3-8bb0-4783-9257-148539d519a1"
      },
      "execution_count": 42,
      "outputs": [
        {
          "output_type": "stream",
          "name": "stdout",
          "text": [
            "*\n",
            "***\n",
            "*****\n",
            "*******\n",
            "*****\n",
            "***\n",
            "*\n"
          ]
        }
      ]
    }
  ]
}