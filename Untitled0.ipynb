{
  "nbformat": 4,
  "nbformat_minor": 0,
  "metadata": {
    "colab": {
      "provenance": [],
      "authorship_tag": "ABX9TyP35aCRzyP08Ok8ZuQAW4v5",
      "include_colab_link": true
    },
    "kernelspec": {
      "name": "python3",
      "display_name": "Python 3"
    },
    "language_info": {
      "name": "python"
    }
  },
  "cells": [
    {
      "cell_type": "markdown",
      "metadata": {
        "id": "view-in-github",
        "colab_type": "text"
      },
      "source": [
        "<a href=\"https://colab.research.google.com/github/AralolaDev/Arithmetic-Operators/blob/master/Untitled0.ipynb\" target=\"_parent\"><img src=\"https://colab.research.google.com/assets/colab-badge.svg\" alt=\"Open In Colab\"/></a>"
      ]
    },
    {
      "cell_type": "code",
      "execution_count": 2,
      "metadata": {
        "colab": {
          "base_uri": "https://localhost:8080/"
        },
        "id": "28vz2VFBkn0G",
        "outputId": "fcd66ddc-4f6d-4951-9474-73a3b3023adb"
      },
      "outputs": [
        {
          "output_type": "execute_result",
          "data": {
            "text/plain": [
              "(1, 2, 3)"
            ]
          },
          "metadata": {},
          "execution_count": 2
        }
      ],
      "source": [
        "list = [1,2,3]\n",
        "tuple(list)"
      ]
    },
    {
      "cell_type": "code",
      "source": [
        "tuple = (1, 2, 3)\n",
        "print(list(('Arthos', 'Porthos','Aramis')))"
      ],
      "metadata": {
        "colab": {
          "base_uri": "https://localhost:8080/",
          "height": 162
        },
        "id": "2p9aONwTlHug",
        "outputId": "f0775950-552b-48ba-b7ee-da92549f304b"
      },
      "execution_count": 9,
      "outputs": [
        {
          "output_type": "error",
          "ename": "TypeError",
          "evalue": "'list' object is not callable",
          "traceback": [
            "\u001b[0;31m---------------------------------------------------------------------------\u001b[0m",
            "\u001b[0;31mTypeError\u001b[0m                                 Traceback (most recent call last)",
            "\u001b[0;32m<ipython-input-9-162f425b0f1e>\u001b[0m in \u001b[0;36m<cell line: 2>\u001b[0;34m()\u001b[0m\n\u001b[1;32m      1\u001b[0m \u001b[0mtuple\u001b[0m \u001b[0;34m=\u001b[0m \u001b[0;34m(\u001b[0m\u001b[0;36m1\u001b[0m\u001b[0;34m,\u001b[0m \u001b[0;36m2\u001b[0m\u001b[0;34m,\u001b[0m \u001b[0;36m3\u001b[0m\u001b[0;34m)\u001b[0m\u001b[0;34m\u001b[0m\u001b[0;34m\u001b[0m\u001b[0m\n\u001b[0;32m----> 2\u001b[0;31m \u001b[0mprint\u001b[0m\u001b[0;34m(\u001b[0m\u001b[0mlist\u001b[0m\u001b[0;34m(\u001b[0m\u001b[0;34m(\u001b[0m\u001b[0;34m'Arthos'\u001b[0m\u001b[0;34m,\u001b[0m \u001b[0;34m'Porthos'\u001b[0m\u001b[0;34m,\u001b[0m\u001b[0;34m'Aramis'\u001b[0m\u001b[0;34m)\u001b[0m\u001b[0;34m)\u001b[0m\u001b[0;34m)\u001b[0m\u001b[0;34m\u001b[0m\u001b[0;34m\u001b[0m\u001b[0m\n\u001b[0m",
            "\u001b[0;31mTypeError\u001b[0m: 'list' object is not callable"
          ]
        }
      ]
    },
    {
      "cell_type": "markdown",
      "source": [
        "A dictionary is an ordered collection of items,each item stored in a dictionary has a key and value, you can use a key to retrieve the corresponding value from the dictionary. So dictionaries have the type dict."
      ],
      "metadata": {
        "id": "RUbafEBqnA2X"
      }
    },
    {
      "cell_type": "code",
      "source": [
        "Me ={\n",
        "    'Name':'Aralola',\n",
        "    'Gender':'Male',\n",
        "    'School': 'WaterSprings',\n",
        "     'Class': 'JSS1'\n",
        "    }"
      ],
      "metadata": {
        "id": "YqH9RFiVlel3"
      },
      "execution_count": 10,
      "outputs": []
    },
    {
      "cell_type": "code",
      "source": [
        "My_Sister = {\n",
        "    ==   'Name':'Ewa',\n",
        "    'Gender':'Female',\n",
        "    'School':'WaterSprings',\n",
        "    'Class': '3'\n",
        "}"
      ],
      "metadata": {
        "id": "-vTOROYGtNjC"
      },
      "execution_count": 12,
      "outputs": []
    },
    {
      "cell_type": "code",
      "source": [
        "print(Me)"
      ],
      "metadata": {
        "colab": {
          "base_uri": "https://localhost:8080/"
        },
        "id": "knwdDy6ltI8_",
        "outputId": "a1175e2e-9895-4c6c-b167-dffec66e29b5"
      },
      "execution_count": 11,
      "outputs": [
        {
          "output_type": "stream",
          "name": "stdout",
          "text": [
            "{'Name': 'Aralola', 'Gender': 'Male', 'School': 'WaterSprings', 'Class': 'JSS1'}\n"
          ]
        }
      ]
    },
    {
      "cell_type": "markdown",
      "source": [],
      "metadata": {
        "id": "idqUREo_vgNf"
      }
    },
    {
      "cell_type": "code",
      "source": [
        "print(My_Sister)"
      ],
      "metadata": {
        "colab": {
          "base_uri": "https://localhost:8080/"
        },
        "id": "zTwYYHc0uR2r",
        "outputId": "0048b9ce-2b8b-4e2e-a61c-c0e5451cb4d4"
      },
      "execution_count": 13,
      "outputs": [
        {
          "output_type": "stream",
          "name": "stdout",
          "text": [
            "{'Name': 'Ewa', 'Gender': 'Female', 'School': 'WaterSprings', 'Class': '3'}\n"
          ]
        }
      ]
    },
    {
      "cell_type": "code",
      "source": [
        "My_Friend = dict(Name = 'Fadhil', Gender = 'Male', School = 'WaterSprings', Class = '6')\n"
      ],
      "metadata": {
        "id": "O1-jZm-VuVXf"
      },
      "execution_count": 14,
      "outputs": []
    },
    {
      "cell_type": "code",
      "source": [
        "print(My_Friend)"
      ],
      "metadata": {
        "colab": {
          "base_uri": "https://localhost:8080/"
        },
        "id": "2KS8B4P4vxFT",
        "outputId": "a35b7a18-f1bd-4eff-dfca-ac0686974bd4"
      },
      "execution_count": 15,
      "outputs": [
        {
          "output_type": "stream",
          "name": "stdout",
          "text": [
            "{'Name': 'Fadhil', 'Gender': 'Male', 'School': 'WaterSprings', 'Class': '6'}\n"
          ]
        }
      ]
    },
    {
      "cell_type": "code",
      "source": [
        "type(Me)"
      ],
      "metadata": {
        "colab": {
          "base_uri": "https://localhost:8080/"
        },
        "id": "lhf3xp__vz4Y",
        "outputId": "22f24029-363b-438b-97e5-b0ee9290cfea"
      },
      "execution_count": 16,
      "outputs": [
        {
          "output_type": "execute_result",
          "data": {
            "text/plain": [
              "dict"
            ]
          },
          "metadata": {},
          "execution_count": 16
        }
      ]
    },
    {
      "cell_type": "code",
      "source": [
        "type(My_Sister)"
      ],
      "metadata": {
        "colab": {
          "base_uri": "https://localhost:8080/"
        },
        "id": "x9IzrcQWwAeL",
        "outputId": "c4cc55f0-4fd0-4e22-eee5-10b4046ae762"
      },
      "execution_count": 17,
      "outputs": [
        {
          "output_type": "execute_result",
          "data": {
            "text/plain": [
              "dict"
            ]
          },
          "metadata": {},
          "execution_count": 17
        }
      ]
    },
    {
      "cell_type": "code",
      "source": [
        "type(My_Friend)"
      ],
      "metadata": {
        "colab": {
          "base_uri": "https://localhost:8080/"
        },
        "id": "avE8oXRHwE_B",
        "outputId": "fabc20af-6b51-4ead-986c-55694d790861"
      },
      "execution_count": 18,
      "outputs": [
        {
          "output_type": "execute_result",
          "data": {
            "text/plain": [
              "dict"
            ]
          },
          "metadata": {},
          "execution_count": 18
        }
      ]
    },
    {
      "cell_type": "code",
      "source": [
        "Me['Name']"
      ],
      "metadata": {
        "colab": {
          "base_uri": "https://localhost:8080/",
          "height": 35
        },
        "id": "3dr5mjvkwKXG",
        "outputId": "65248a10-0ce1-4302-f5b6-31569f7751a9"
      },
      "execution_count": 19,
      "outputs": [
        {
          "output_type": "execute_result",
          "data": {
            "text/plain": [
              "'Aralola'"
            ],
            "application/vnd.google.colaboratory.intrinsic+json": {
              "type": "string"
            }
          },
          "metadata": {},
          "execution_count": 19
        }
      ]
    },
    {
      "cell_type": "code",
      "source": [
        "Me['Gender']"
      ],
      "metadata": {
        "colab": {
          "base_uri": "https://localhost:8080/",
          "height": 35
        },
        "id": "Fu7tQl6wwkXC",
        "outputId": "3b63ea93-ed07-48af-b133-b76c5dbdd60c"
      },
      "execution_count": 20,
      "outputs": [
        {
          "output_type": "execute_result",
          "data": {
            "text/plain": [
              "'Male'"
            ],
            "application/vnd.google.colaboratory.intrinsic+json": {
              "type": "string"
            }
          },
          "metadata": {},
          "execution_count": 20
        }
      ]
    },
    {
      "cell_type": "code",
      "source": [
        "Me['School']"
      ],
      "metadata": {
        "colab": {
          "base_uri": "https://localhost:8080/",
          "height": 35
        },
        "id": "DQ_dF3gTwzmI",
        "outputId": "b0b6bb73-a57c-4a7d-b33a-5153eed7bb3a"
      },
      "execution_count": 21,
      "outputs": [
        {
          "output_type": "execute_result",
          "data": {
            "text/plain": [
              "'WaterSprings'"
            ],
            "application/vnd.google.colaboratory.intrinsic+json": {
              "type": "string"
            }
          },
          "metadata": {},
          "execution_count": 21
        }
      ]
    },
    {
      "cell_type": "code",
      "source": [
        "Me['Class']"
      ],
      "metadata": {
        "colab": {
          "base_uri": "https://localhost:8080/",
          "height": 35
        },
        "id": "XF_SmASOw5JX",
        "outputId": "03da3643-f0a7-4102-a552-87e29526cd76"
      },
      "execution_count": 22,
      "outputs": [
        {
          "output_type": "execute_result",
          "data": {
            "text/plain": [
              "'JSS1'"
            ],
            "application/vnd.google.colaboratory.intrinsic+json": {
              "type": "string"
            }
          },
          "metadata": {},
          "execution_count": 22
        }
      ]
    },
    {
      "cell_type": "code",
      "source": [
        "Me.get('Name')"
      ],
      "metadata": {
        "colab": {
          "base_uri": "https://localhost:8080/",
          "height": 35
        },
        "id": "r0QT1YtNxMjn",
        "outputId": "acf2e67c-cf8e-49d1-a630-b58d79ca9181"
      },
      "execution_count": 23,
      "outputs": [
        {
          "output_type": "execute_result",
          "data": {
            "text/plain": [
              "'Aralola'"
            ],
            "application/vnd.google.colaboratory.intrinsic+json": {
              "type": "string"
            }
          },
          "metadata": {},
          "execution_count": 23
        }
      ]
    },
    {
      "cell_type": "code",
      "source": [
        "Me.get('Favourite food')"
      ],
      "metadata": {
        "id": "eShOnw9yyTN7"
      },
      "execution_count": 24,
      "outputs": []
    },
    {
      "cell_type": "code",
      "source": [
        "Me['Favourite food']"
      ],
      "metadata": {
        "colab": {
          "base_uri": "https://localhost:8080/",
          "height": 144
        },
        "id": "_6DqRPZTycld",
        "outputId": "176e48c6-bb55-40fe-e4e9-cbd0a60634bf"
      },
      "execution_count": 25,
      "outputs": [
        {
          "output_type": "error",
          "ename": "KeyError",
          "evalue": "'Favourite food'",
          "traceback": [
            "\u001b[0;31m---------------------------------------------------------------------------\u001b[0m",
            "\u001b[0;31mKeyError\u001b[0m                                  Traceback (most recent call last)",
            "\u001b[0;32m<ipython-input-25-94f8ba2c0502>\u001b[0m in \u001b[0;36m<cell line: 1>\u001b[0;34m()\u001b[0m\n\u001b[0;32m----> 1\u001b[0;31m \u001b[0mMe\u001b[0m\u001b[0;34m[\u001b[0m\u001b[0;34m'Favourite food'\u001b[0m\u001b[0;34m]\u001b[0m\u001b[0;34m\u001b[0m\u001b[0;34m\u001b[0m\u001b[0m\n\u001b[0m",
            "\u001b[0;31mKeyError\u001b[0m: 'Favourite food'"
          ]
        }
      ]
    },
    {
      "cell_type": "code",
      "source": [
        "Me.get('Favourite food ','it does not exist')"
      ],
      "metadata": {
        "colab": {
          "base_uri": "https://localhost:8080/",
          "height": 35
        },
        "id": "KAMk2xNVyqjZ",
        "outputId": "b6179220-143a-43ea-9695-f724810edd9b"
      },
      "execution_count": 26,
      "outputs": [
        {
          "output_type": "execute_result",
          "data": {
            "text/plain": [
              "'it does not exist'"
            ],
            "application/vnd.google.colaboratory.intrinsic+json": {
              "type": "string"
            }
          },
          "metadata": {},
          "execution_count": 26
        }
      ]
    },
    {
      "cell_type": "code",
      "source": [
        "'Name' in Me"
      ],
      "metadata": {
        "colab": {
          "base_uri": "https://localhost:8080/"
        },
        "id": "2B8sLNpgy9_s",
        "outputId": "061838ba-2f81-4dcf-ef23-aabc20fbd65a"
      },
      "execution_count": 28,
      "outputs": [
        {
          "output_type": "execute_result",
          "data": {
            "text/plain": [
              "True"
            ]
          },
          "metadata": {},
          "execution_count": 28
        }
      ]
    },
    {
      "cell_type": "code",
      "source": [
        "'My Favourite food'in Me"
      ],
      "metadata": {
        "colab": {
          "base_uri": "https://localhost:8080/"
        },
        "id": "0HytxtTzzJyF",
        "outputId": "235cfab4-0763-4bc4-9293-601c4b4f39bd"
      },
      "execution_count": 31,
      "outputs": [
        {
          "output_type": "execute_result",
          "data": {
            "text/plain": [
              "False"
            ]
          },
          "metadata": {},
          "execution_count": 31
        }
      ]
    },
    {
      "cell_type": "code",
      "source": [
        "Me['My Favourite food'] =   'Jollof rice'"
      ],
      "metadata": {
        "id": "Nbj7TiurzgJi"
      },
      "execution_count": 32,
      "outputs": []
    },
    {
      "cell_type": "code",
      "source": [
        "print(Me)"
      ],
      "metadata": {
        "colab": {
          "base_uri": "https://localhost:8080/"
        },
        "id": "RvxI6PN60IFf",
        "outputId": "fa592ce5-c713-43c4-abc8-4c84467e0b72"
      },
      "execution_count": 33,
      "outputs": [
        {
          "output_type": "stream",
          "name": "stdout",
          "text": [
            "{'Name': 'Aralola', 'Gender': 'Male', 'School': 'WaterSprings', 'Class': 'JSS1', 'My Favourite food': 'Jollof rice'}\n"
          ]
        }
      ]
    },
    {
      "cell_type": "code",
      "source": [
        "Me.pop('School')"
      ],
      "metadata": {
        "colab": {
          "base_uri": "https://localhost:8080/",
          "height": 35
        },
        "id": "fycjDyU80KNI",
        "outputId": "855d71e2-bd5e-47c5-dda1-c11e6c101608"
      },
      "execution_count": 34,
      "outputs": [
        {
          "output_type": "execute_result",
          "data": {
            "text/plain": [
              "'WaterSprings'"
            ],
            "application/vnd.google.colaboratory.intrinsic+json": {
              "type": "string"
            }
          },
          "metadata": {},
          "execution_count": 34
        }
      ]
    },
    {
      "cell_type": "code",
      "source": [
        "print(Me)"
      ],
      "metadata": {
        "colab": {
          "base_uri": "https://localhost:8080/"
        },
        "id": "rMyUHNtv06n4",
        "outputId": "50f1fe40-b3e7-4365-b9a4-7c5c832a83fa"
      },
      "execution_count": 35,
      "outputs": [
        {
          "output_type": "stream",
          "name": "stdout",
          "text": [
            "{'Name': 'Aralola', 'Gender': 'Male', 'Class': 'JSS1', 'My Favourite food': 'Jollof rice'}\n"
          ]
        }
      ]
    },
    {
      "cell_type": "code",
      "source": [
        "Me.keys()"
      ],
      "metadata": {
        "colab": {
          "base_uri": "https://localhost:8080/"
        },
        "id": "Y47R9QKy0_M5",
        "outputId": "fddc97cf-e8a6-4fd2-a064-e641c5361073"
      },
      "execution_count": 36,
      "outputs": [
        {
          "output_type": "execute_result",
          "data": {
            "text/plain": [
              "dict_keys(['Name', 'Gender', 'Class', 'My Favourite food'])"
            ]
          },
          "metadata": {},
          "execution_count": 36
        }
      ]
    },
    {
      "cell_type": "code",
      "source": [
        "Me.values()"
      ],
      "metadata": {
        "colab": {
          "base_uri": "https://localhost:8080/"
        },
        "id": "MRVyuxkA1Nbx",
        "outputId": "4df83f6a-325b-416d-a012-29b611628f9b"
      },
      "execution_count": 37,
      "outputs": [
        {
          "output_type": "execute_result",
          "data": {
            "text/plain": [
              "dict_values(['Aralola', 'Male', 'JSS1', 'Jollof rice'])"
            ]
          },
          "metadata": {},
          "execution_count": 37
        }
      ]
    },
    {
      "cell_type": "code",
      "source": [
        "Me.values()"
      ],
      "metadata": {
        "colab": {
          "base_uri": "https://localhost:8080/"
        },
        "id": "VQm2AmEl1dtj",
        "outputId": "e3cd625d-80c7-491d-fc8b-31d6bb37c6a3"
      },
      "execution_count": 39,
      "outputs": [
        {
          "output_type": "execute_result",
          "data": {
            "text/plain": [
              "dict_values(['Aralola', 'Male', 'JSS1', 'Jollof rice'])"
            ]
          },
          "metadata": {},
          "execution_count": 39
        }
      ]
    },
    {
      "cell_type": "code",
      "source": [
        "Me.items()"
      ],
      "metadata": {
        "colab": {
          "base_uri": "https://localhost:8080/"
        },
        "id": "mJN6ktOI1rwy",
        "outputId": "3be4ae5a-ec5b-4edd-a375-53b536a55305"
      },
      "execution_count": 40,
      "outputs": [
        {
          "output_type": "execute_result",
          "data": {
            "text/plain": [
              "dict_items([('Name', 'Aralola'), ('Gender', 'Male'), ('Class', 'JSS1'), ('My Favourite food', 'Jollof rice')])"
            ]
          },
          "metadata": {},
          "execution_count": 40
        }
      ]
    },
    {
      "cell_type": "code",
      "source": [
        "My_Cousin = {\n",
        "    'Name':'Seyi',\n",
        "    'Gender':'Male',\n",
        "    'School':'Watersprings',\n",
        "    'Class' : 'Preschool',\n",
        "}"
      ],
      "metadata": {
        "id": "ebVrnbaS2UEs"
      },
      "execution_count": null,
      "outputs": []
    },
    {
      "cell_type": "code",
      "source": [
        "print(My_Cousin)"
      ],
      "metadata": {
        "id": "bxIwpLE3yA3O"
      },
      "execution_count": null,
      "outputs": []
    },
    {
      "cell_type": "code",
      "source": [
        "type(My Cousin)"
      ],
      "metadata": {
        "id": "yrpUODziyNOe"
      },
      "execution_count": null,
      "outputs": []
    },
    {
      "cell_type": "code",
      "source": [
        "Me.values()"
      ],
      "metadata": {
        "id": "taox9VihzfMU"
      },
      "execution_count": null,
      "outputs": []
    },
    {
      "cell_type": "code",
      "source": [
        "Me.pop('School')"
      ],
      "metadata": {
        "id": "tGwiq4SAyf3a"
      },
      "execution_count": null,
      "outputs": []
    },
    {
      "cell_type": "code",
      "source": [
        "Me.keys()"
      ],
      "metadata": {
        "id": "N0dMg0eWzYAI"
      },
      "execution_count": null,
      "outputs": []
    },
    {
      "cell_type": "code",
      "source": [
        "Me.items()"
      ],
      "metadata": {
        "id": "zE_FcRUFzhw3"
      },
      "execution_count": null,
      "outputs": []
    },
    {
      "cell_type": "code",
      "source": [
        "'Name'in My Cousin"
      ],
      "metadata": {
        "id": "BWgbIC6czv8h"
      },
      "execution_count": null,
      "outputs": []
    },
    {
      "cell_type": "code",
      "source": [],
      "metadata": {
        "id": "Ym1X8N35z2-6"
      },
      "execution_count": null,
      "outputs": []
    }
  ]
}